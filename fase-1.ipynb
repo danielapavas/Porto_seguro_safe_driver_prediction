{
  "cells": [
    {
      "cell_type": "markdown",
      "metadata": {
        "id": "view-in-github",
        "colab_type": "text"
      },
      "source": [
        "<a href=\"https://colab.research.google.com/github/danielapavas/Porto_seguro_safe_driver_prediction/blob/main/fase-1.ipynb\" target=\"_parent\"><img src=\"https://colab.research.google.com/assets/colab-badge.svg\" alt=\"Open In Colab\"/></a>"
      ]
    },
    {
      "cell_type": "markdown",
      "metadata": {
        "id": "j3vlPo8HB5Ka"
      },
      "source": [
        "# **Carga de dataset desde Kaggle**"
      ]
    },
    {
      "cell_type": "markdown",
      "metadata": {
        "id": "kgXtwlj5Ce03"
      },
      "source": [
        "El dataset es tomado de la competencia de Kaggle: https://www.kaggle.com/competitions/porto-seguro-safe-driver-prediction/overview"
      ]
    },
    {
      "cell_type": "code",
      "execution_count": null,
      "metadata": {
        "id": "tgZrjANCCaUV"
      },
      "outputs": [],
      "source": [
        "!pip install kaggle"
      ]
    },
    {
      "cell_type": "code",
      "execution_count": null,
      "metadata": {
        "colab": {
          "base_uri": "https://localhost:8080/",
          "height": 88
        },
        "id": "jxKmNkVzCvWv",
        "outputId": "fea0b26c-76be-404a-8695-27da6e803024"
      },
      "outputs": [
        {
          "output_type": "display_data",
          "data": {
            "text/plain": [
              "<IPython.core.display.HTML object>"
            ],
            "text/html": [
              "\n",
              "     <input type=\"file\" id=\"files-bf9bbe99-ef8f-45d5-aaa7-15a6e0d25542\" name=\"files[]\" multiple disabled\n",
              "        style=\"border:none\" />\n",
              "     <output id=\"result-bf9bbe99-ef8f-45d5-aaa7-15a6e0d25542\">\n",
              "      Upload widget is only available when the cell has been executed in the\n",
              "      current browser session. Please rerun this cell to enable.\n",
              "      </output>\n",
              "      <script>// Copyright 2017 Google LLC\n",
              "//\n",
              "// Licensed under the Apache License, Version 2.0 (the \"License\");\n",
              "// you may not use this file except in compliance with the License.\n",
              "// You may obtain a copy of the License at\n",
              "//\n",
              "//      http://www.apache.org/licenses/LICENSE-2.0\n",
              "//\n",
              "// Unless required by applicable law or agreed to in writing, software\n",
              "// distributed under the License is distributed on an \"AS IS\" BASIS,\n",
              "// WITHOUT WARRANTIES OR CONDITIONS OF ANY KIND, either express or implied.\n",
              "// See the License for the specific language governing permissions and\n",
              "// limitations under the License.\n",
              "\n",
              "/**\n",
              " * @fileoverview Helpers for google.colab Python module.\n",
              " */\n",
              "(function(scope) {\n",
              "function span(text, styleAttributes = {}) {\n",
              "  const element = document.createElement('span');\n",
              "  element.textContent = text;\n",
              "  for (const key of Object.keys(styleAttributes)) {\n",
              "    element.style[key] = styleAttributes[key];\n",
              "  }\n",
              "  return element;\n",
              "}\n",
              "\n",
              "// Max number of bytes which will be uploaded at a time.\n",
              "const MAX_PAYLOAD_SIZE = 100 * 1024;\n",
              "\n",
              "function _uploadFiles(inputId, outputId) {\n",
              "  const steps = uploadFilesStep(inputId, outputId);\n",
              "  const outputElement = document.getElementById(outputId);\n",
              "  // Cache steps on the outputElement to make it available for the next call\n",
              "  // to uploadFilesContinue from Python.\n",
              "  outputElement.steps = steps;\n",
              "\n",
              "  return _uploadFilesContinue(outputId);\n",
              "}\n",
              "\n",
              "// This is roughly an async generator (not supported in the browser yet),\n",
              "// where there are multiple asynchronous steps and the Python side is going\n",
              "// to poll for completion of each step.\n",
              "// This uses a Promise to block the python side on completion of each step,\n",
              "// then passes the result of the previous step as the input to the next step.\n",
              "function _uploadFilesContinue(outputId) {\n",
              "  const outputElement = document.getElementById(outputId);\n",
              "  const steps = outputElement.steps;\n",
              "\n",
              "  const next = steps.next(outputElement.lastPromiseValue);\n",
              "  return Promise.resolve(next.value.promise).then((value) => {\n",
              "    // Cache the last promise value to make it available to the next\n",
              "    // step of the generator.\n",
              "    outputElement.lastPromiseValue = value;\n",
              "    return next.value.response;\n",
              "  });\n",
              "}\n",
              "\n",
              "/**\n",
              " * Generator function which is called between each async step of the upload\n",
              " * process.\n",
              " * @param {string} inputId Element ID of the input file picker element.\n",
              " * @param {string} outputId Element ID of the output display.\n",
              " * @return {!Iterable<!Object>} Iterable of next steps.\n",
              " */\n",
              "function* uploadFilesStep(inputId, outputId) {\n",
              "  const inputElement = document.getElementById(inputId);\n",
              "  inputElement.disabled = false;\n",
              "\n",
              "  const outputElement = document.getElementById(outputId);\n",
              "  outputElement.innerHTML = '';\n",
              "\n",
              "  const pickedPromise = new Promise((resolve) => {\n",
              "    inputElement.addEventListener('change', (e) => {\n",
              "      resolve(e.target.files);\n",
              "    });\n",
              "  });\n",
              "\n",
              "  const cancel = document.createElement('button');\n",
              "  inputElement.parentElement.appendChild(cancel);\n",
              "  cancel.textContent = 'Cancel upload';\n",
              "  const cancelPromise = new Promise((resolve) => {\n",
              "    cancel.onclick = () => {\n",
              "      resolve(null);\n",
              "    };\n",
              "  });\n",
              "\n",
              "  // Wait for the user to pick the files.\n",
              "  const files = yield {\n",
              "    promise: Promise.race([pickedPromise, cancelPromise]),\n",
              "    response: {\n",
              "      action: 'starting',\n",
              "    }\n",
              "  };\n",
              "\n",
              "  cancel.remove();\n",
              "\n",
              "  // Disable the input element since further picks are not allowed.\n",
              "  inputElement.disabled = true;\n",
              "\n",
              "  if (!files) {\n",
              "    return {\n",
              "      response: {\n",
              "        action: 'complete',\n",
              "      }\n",
              "    };\n",
              "  }\n",
              "\n",
              "  for (const file of files) {\n",
              "    const li = document.createElement('li');\n",
              "    li.append(span(file.name, {fontWeight: 'bold'}));\n",
              "    li.append(span(\n",
              "        `(${file.type || 'n/a'}) - ${file.size} bytes, ` +\n",
              "        `last modified: ${\n",
              "            file.lastModifiedDate ? file.lastModifiedDate.toLocaleDateString() :\n",
              "                                    'n/a'} - `));\n",
              "    const percent = span('0% done');\n",
              "    li.appendChild(percent);\n",
              "\n",
              "    outputElement.appendChild(li);\n",
              "\n",
              "    const fileDataPromise = new Promise((resolve) => {\n",
              "      const reader = new FileReader();\n",
              "      reader.onload = (e) => {\n",
              "        resolve(e.target.result);\n",
              "      };\n",
              "      reader.readAsArrayBuffer(file);\n",
              "    });\n",
              "    // Wait for the data to be ready.\n",
              "    let fileData = yield {\n",
              "      promise: fileDataPromise,\n",
              "      response: {\n",
              "        action: 'continue',\n",
              "      }\n",
              "    };\n",
              "\n",
              "    // Use a chunked sending to avoid message size limits. See b/62115660.\n",
              "    let position = 0;\n",
              "    do {\n",
              "      const length = Math.min(fileData.byteLength - position, MAX_PAYLOAD_SIZE);\n",
              "      const chunk = new Uint8Array(fileData, position, length);\n",
              "      position += length;\n",
              "\n",
              "      const base64 = btoa(String.fromCharCode.apply(null, chunk));\n",
              "      yield {\n",
              "        response: {\n",
              "          action: 'append',\n",
              "          file: file.name,\n",
              "          data: base64,\n",
              "        },\n",
              "      };\n",
              "\n",
              "      let percentDone = fileData.byteLength === 0 ?\n",
              "          100 :\n",
              "          Math.round((position / fileData.byteLength) * 100);\n",
              "      percent.textContent = `${percentDone}% done`;\n",
              "\n",
              "    } while (position < fileData.byteLength);\n",
              "  }\n",
              "\n",
              "  // All done.\n",
              "  yield {\n",
              "    response: {\n",
              "      action: 'complete',\n",
              "    }\n",
              "  };\n",
              "}\n",
              "\n",
              "scope.google = scope.google || {};\n",
              "scope.google.colab = scope.google.colab || {};\n",
              "scope.google.colab._files = {\n",
              "  _uploadFiles,\n",
              "  _uploadFilesContinue,\n",
              "};\n",
              "})(self);\n",
              "</script> "
            ]
          },
          "metadata": {}
        },
        {
          "output_type": "stream",
          "name": "stdout",
          "text": [
            "Saving kaggle.json to kaggle.json\n"
          ]
        },
        {
          "output_type": "execute_result",
          "data": {
            "text/plain": [
              "{'kaggle.json': b'{\"username\":\"danielapavas\",\"key\":\"c2bccd2eb61b7f7167c20b7ee01878ab\"}'}"
            ]
          },
          "metadata": {},
          "execution_count": 2
        }
      ],
      "source": [
        "#carga del token de kaggle\n",
        "\n",
        "from google.colab import files\n",
        "files.upload()"
      ]
    },
    {
      "cell_type": "code",
      "execution_count": null,
      "metadata": {
        "id": "898Jg3qDDUqY"
      },
      "outputs": [],
      "source": [
        "! mkdir ~/.kaggle"
      ]
    },
    {
      "cell_type": "code",
      "execution_count": null,
      "metadata": {
        "id": "NfNuo-IeDWkI"
      },
      "outputs": [],
      "source": [
        "! cp kaggle.json ~/.kaggle/"
      ]
    },
    {
      "cell_type": "code",
      "execution_count": null,
      "metadata": {
        "id": "HiErTvURDdoF",
        "colab": {
          "base_uri": "https://localhost:8080/"
        },
        "outputId": "3bf95a05-0c12-47f3-8f1f-79583bfe36ee"
      },
      "outputs": [
        {
          "output_type": "stream",
          "name": "stdout",
          "text": [
            "chmod: cannot access '/root/.kaggle/kaggle.json': No such file or directory\n"
          ]
        }
      ],
      "source": [
        "! chmod 600 ~/.kaggle/kaggle.json"
      ]
    },
    {
      "cell_type": "code",
      "execution_count": null,
      "metadata": {
        "colab": {
          "base_uri": "https://localhost:8080/"
        },
        "id": "p12qztkbDfc8",
        "outputId": "e5f43e21-8ca3-4c8f-90f1-899e92e13ba6"
      },
      "outputs": [
        {
          "output_type": "stream",
          "name": "stdout",
          "text": [
            "Warning: Your Kaggle API key is readable by other users on this system! To fix this, you can run 'chmod 600 /root/.kaggle/kaggle.json'\n",
            "Downloading porto-seguro-safe-driver-prediction.zip to /content\n",
            " 95% 73.0M/76.5M [00:03<00:00, 33.5MB/s]\n",
            "100% 76.5M/76.5M [00:03<00:00, 25.4MB/s]\n"
          ]
        }
      ],
      "source": [
        "!kaggle competitions download -c porto-seguro-safe-driver-prediction"
      ]
    },
    {
      "cell_type": "code",
      "execution_count": null,
      "metadata": {
        "colab": {
          "base_uri": "https://localhost:8080/"
        },
        "id": "HMYbuhMPD70x",
        "outputId": "96a8bd8a-6796-45dd-b14c-c27b15827374"
      },
      "outputs": [
        {
          "output_type": "stream",
          "name": "stdout",
          "text": [
            "Archive:  porto-seguro-safe-driver-prediction.zip\n",
            "  inflating: sample_submission.csv   \n",
            "  inflating: test.csv                \n",
            "  inflating: train.csv               \n"
          ]
        }
      ],
      "source": [
        "!unzip porto-seguro-safe-driver-prediction.zip"
      ]
    },
    {
      "cell_type": "markdown",
      "source": [
        "# **IMPORTS**"
      ],
      "metadata": {
        "id": "euIjWVJGSGee"
      }
    },
    {
      "cell_type": "code",
      "source": [
        "import pandas as pd\n",
        "import numpy as np\n",
        "import matplotlib.pyplot as plt\n",
        "from tqdm import tqdm\n",
        "from sklearn.preprocessing import LabelEncoder\n",
        "import seaborn as sns\n",
        "from sklearn.preprocessing import StandardScaler\n",
        "from sklearn.linear_model import SGDClassifier\n",
        "from sklearn.metrics import  roc_auc_score\n",
        "from sklearn.calibration import CalibratedClassifierCV\n",
        "from sklearn.ensemble import RandomForestClassifier"
      ],
      "metadata": {
        "id": "34MxFSlOSFOo"
      },
      "execution_count": null,
      "outputs": []
    },
    {
      "cell_type": "markdown",
      "source": [
        "import random\n",
        "\n",
        "%matplotlib inline\n",
        "\n",
        "import xgboost as xgb\n",
        "\n",
        "from sklearn.linear_model import LogisticRegression\n",
        "\n",
        "from sklearn.model_selection import StratifiedKFold\n",
        "from sklearn.model_selection import cross_val_score\n",
        "from sklearn.model_selection import train_test_split\n",
        "from sklearn.model_selection import GridSearchCV\n",
        "\n",
        "from sklearn.ensemble import RandomForestClassifier\n",
        "from sklearn.svm import SVC\n",
        "\n",
        "\n",
        "import warnings\n",
        "warnings.filterwarnings('ignore')\n",
        "\n",
        "from lightgbm import LGBMClassifier"
      ],
      "metadata": {
        "id": "ys5xiasbpkRO"
      }
    },
    {
      "cell_type": "markdown",
      "metadata": {
        "id": "bgB5RFQSDNzw"
      },
      "source": [
        "# **Dataset y simulacion de datos faltantes(NAN)**"
      ]
    },
    {
      "cell_type": "code",
      "execution_count": null,
      "metadata": {
        "id": "8oNFHrJh3-cV"
      },
      "outputs": [],
      "source": [
        "# Cargar los conjuntos de datos\n",
        "train = pd.read_csv('train.csv')\n",
        "test = pd.read_csv('test.csv')\n",
        "\n",
        "test_id = test['id']\n",
        "test.drop('id', axis=1, inplace=True)\n",
        "y = train['target']\n",
        "train =train.drop(['id','target'], axis=1)"
      ]
    },
    {
      "cell_type": "code",
      "source": [
        "train.shape, test.shape"
      ],
      "metadata": {
        "colab": {
          "base_uri": "https://localhost:8080/"
        },
        "id": "4SH1cXn-QWyt",
        "outputId": "ae51c2d0-1aad-4fdd-f7e4-a2816125eb8d"
      },
      "execution_count": null,
      "outputs": [
        {
          "output_type": "execute_result",
          "data": {
            "text/plain": [
              "((595212, 59), (892816, 58))"
            ]
          },
          "metadata": {},
          "execution_count": 10
        }
      ]
    },
    {
      "cell_type": "code",
      "execution_count": null,
      "metadata": {
        "colab": {
          "base_uri": "https://localhost:8080/",
          "height": 256
        },
        "id": "39unlZCRv0A4",
        "outputId": "0ee44b2d-899a-4138-a916-bb5342d2e7e3"
      },
      "outputs": [
        {
          "output_type": "execute_result",
          "data": {
            "text/plain": [
              "   id  target  ps_ind_01  ps_ind_02_cat  ps_ind_03  ps_ind_04_cat  \\\n",
              "0   7       0          2              2          5              1   \n",
              "1   9       0          1              1          7              0   \n",
              "2  13       0          5              4          9              1   \n",
              "3  16       0          0              1          2              0   \n",
              "4  17       0          0              2          0              1   \n",
              "\n",
              "   ps_ind_05_cat  ps_ind_06_bin  ps_ind_07_bin  ps_ind_08_bin  ...  \\\n",
              "0              0              0              1              0  ...   \n",
              "1              0              0              0              1  ...   \n",
              "2              0              0              0              1  ...   \n",
              "3              0              1              0              0  ...   \n",
              "4              0              1              0              0  ...   \n",
              "\n",
              "   ps_calc_11  ps_calc_12  ps_calc_13  ps_calc_14  ps_calc_15_bin  \\\n",
              "0           9           1           5           8               0   \n",
              "1           3           1           1           9               0   \n",
              "2           4           2           7           7               0   \n",
              "3           2           2           4           9               0   \n",
              "4           3           1           1           3               0   \n",
              "\n",
              "   ps_calc_16_bin  ps_calc_17_bin  ps_calc_18_bin  ps_calc_19_bin  \\\n",
              "0               1               1               0               0   \n",
              "1               1               1               0               1   \n",
              "2               1               1               0               1   \n",
              "3               0               0               0               0   \n",
              "4               0               0               1               1   \n",
              "\n",
              "   ps_calc_20_bin  \n",
              "0               1  \n",
              "1               0  \n",
              "2               0  \n",
              "3               0  \n",
              "4               0  \n",
              "\n",
              "[5 rows x 59 columns]"
            ],
            "text/html": [
              "\n",
              "  <div id=\"df-b9410d8a-f1aa-485b-b91c-f015577e3293\" class=\"colab-df-container\">\n",
              "    <div>\n",
              "<style scoped>\n",
              "    .dataframe tbody tr th:only-of-type {\n",
              "        vertical-align: middle;\n",
              "    }\n",
              "\n",
              "    .dataframe tbody tr th {\n",
              "        vertical-align: top;\n",
              "    }\n",
              "\n",
              "    .dataframe thead th {\n",
              "        text-align: right;\n",
              "    }\n",
              "</style>\n",
              "<table border=\"1\" class=\"dataframe\">\n",
              "  <thead>\n",
              "    <tr style=\"text-align: right;\">\n",
              "      <th></th>\n",
              "      <th>id</th>\n",
              "      <th>target</th>\n",
              "      <th>ps_ind_01</th>\n",
              "      <th>ps_ind_02_cat</th>\n",
              "      <th>ps_ind_03</th>\n",
              "      <th>ps_ind_04_cat</th>\n",
              "      <th>ps_ind_05_cat</th>\n",
              "      <th>ps_ind_06_bin</th>\n",
              "      <th>ps_ind_07_bin</th>\n",
              "      <th>ps_ind_08_bin</th>\n",
              "      <th>...</th>\n",
              "      <th>ps_calc_11</th>\n",
              "      <th>ps_calc_12</th>\n",
              "      <th>ps_calc_13</th>\n",
              "      <th>ps_calc_14</th>\n",
              "      <th>ps_calc_15_bin</th>\n",
              "      <th>ps_calc_16_bin</th>\n",
              "      <th>ps_calc_17_bin</th>\n",
              "      <th>ps_calc_18_bin</th>\n",
              "      <th>ps_calc_19_bin</th>\n",
              "      <th>ps_calc_20_bin</th>\n",
              "    </tr>\n",
              "  </thead>\n",
              "  <tbody>\n",
              "    <tr>\n",
              "      <th>0</th>\n",
              "      <td>7</td>\n",
              "      <td>0</td>\n",
              "      <td>2</td>\n",
              "      <td>2</td>\n",
              "      <td>5</td>\n",
              "      <td>1</td>\n",
              "      <td>0</td>\n",
              "      <td>0</td>\n",
              "      <td>1</td>\n",
              "      <td>0</td>\n",
              "      <td>...</td>\n",
              "      <td>9</td>\n",
              "      <td>1</td>\n",
              "      <td>5</td>\n",
              "      <td>8</td>\n",
              "      <td>0</td>\n",
              "      <td>1</td>\n",
              "      <td>1</td>\n",
              "      <td>0</td>\n",
              "      <td>0</td>\n",
              "      <td>1</td>\n",
              "    </tr>\n",
              "    <tr>\n",
              "      <th>1</th>\n",
              "      <td>9</td>\n",
              "      <td>0</td>\n",
              "      <td>1</td>\n",
              "      <td>1</td>\n",
              "      <td>7</td>\n",
              "      <td>0</td>\n",
              "      <td>0</td>\n",
              "      <td>0</td>\n",
              "      <td>0</td>\n",
              "      <td>1</td>\n",
              "      <td>...</td>\n",
              "      <td>3</td>\n",
              "      <td>1</td>\n",
              "      <td>1</td>\n",
              "      <td>9</td>\n",
              "      <td>0</td>\n",
              "      <td>1</td>\n",
              "      <td>1</td>\n",
              "      <td>0</td>\n",
              "      <td>1</td>\n",
              "      <td>0</td>\n",
              "    </tr>\n",
              "    <tr>\n",
              "      <th>2</th>\n",
              "      <td>13</td>\n",
              "      <td>0</td>\n",
              "      <td>5</td>\n",
              "      <td>4</td>\n",
              "      <td>9</td>\n",
              "      <td>1</td>\n",
              "      <td>0</td>\n",
              "      <td>0</td>\n",
              "      <td>0</td>\n",
              "      <td>1</td>\n",
              "      <td>...</td>\n",
              "      <td>4</td>\n",
              "      <td>2</td>\n",
              "      <td>7</td>\n",
              "      <td>7</td>\n",
              "      <td>0</td>\n",
              "      <td>1</td>\n",
              "      <td>1</td>\n",
              "      <td>0</td>\n",
              "      <td>1</td>\n",
              "      <td>0</td>\n",
              "    </tr>\n",
              "    <tr>\n",
              "      <th>3</th>\n",
              "      <td>16</td>\n",
              "      <td>0</td>\n",
              "      <td>0</td>\n",
              "      <td>1</td>\n",
              "      <td>2</td>\n",
              "      <td>0</td>\n",
              "      <td>0</td>\n",
              "      <td>1</td>\n",
              "      <td>0</td>\n",
              "      <td>0</td>\n",
              "      <td>...</td>\n",
              "      <td>2</td>\n",
              "      <td>2</td>\n",
              "      <td>4</td>\n",
              "      <td>9</td>\n",
              "      <td>0</td>\n",
              "      <td>0</td>\n",
              "      <td>0</td>\n",
              "      <td>0</td>\n",
              "      <td>0</td>\n",
              "      <td>0</td>\n",
              "    </tr>\n",
              "    <tr>\n",
              "      <th>4</th>\n",
              "      <td>17</td>\n",
              "      <td>0</td>\n",
              "      <td>0</td>\n",
              "      <td>2</td>\n",
              "      <td>0</td>\n",
              "      <td>1</td>\n",
              "      <td>0</td>\n",
              "      <td>1</td>\n",
              "      <td>0</td>\n",
              "      <td>0</td>\n",
              "      <td>...</td>\n",
              "      <td>3</td>\n",
              "      <td>1</td>\n",
              "      <td>1</td>\n",
              "      <td>3</td>\n",
              "      <td>0</td>\n",
              "      <td>0</td>\n",
              "      <td>0</td>\n",
              "      <td>1</td>\n",
              "      <td>1</td>\n",
              "      <td>0</td>\n",
              "    </tr>\n",
              "  </tbody>\n",
              "</table>\n",
              "<p>5 rows × 59 columns</p>\n",
              "</div>\n",
              "    <div class=\"colab-df-buttons\">\n",
              "\n",
              "  <div class=\"colab-df-container\">\n",
              "    <button class=\"colab-df-convert\" onclick=\"convertToInteractive('df-b9410d8a-f1aa-485b-b91c-f015577e3293')\"\n",
              "            title=\"Convert this dataframe to an interactive table.\"\n",
              "            style=\"display:none;\">\n",
              "\n",
              "  <svg xmlns=\"http://www.w3.org/2000/svg\" height=\"24px\" viewBox=\"0 -960 960 960\">\n",
              "    <path d=\"M120-120v-720h720v720H120Zm60-500h600v-160H180v160Zm220 220h160v-160H400v160Zm0 220h160v-160H400v160ZM180-400h160v-160H180v160Zm440 0h160v-160H620v160ZM180-180h160v-160H180v160Zm440 0h160v-160H620v160Z\"/>\n",
              "  </svg>\n",
              "    </button>\n",
              "\n",
              "  <style>\n",
              "    .colab-df-container {\n",
              "      display:flex;\n",
              "      gap: 12px;\n",
              "    }\n",
              "\n",
              "    .colab-df-convert {\n",
              "      background-color: #E8F0FE;\n",
              "      border: none;\n",
              "      border-radius: 50%;\n",
              "      cursor: pointer;\n",
              "      display: none;\n",
              "      fill: #1967D2;\n",
              "      height: 32px;\n",
              "      padding: 0 0 0 0;\n",
              "      width: 32px;\n",
              "    }\n",
              "\n",
              "    .colab-df-convert:hover {\n",
              "      background-color: #E2EBFA;\n",
              "      box-shadow: 0px 1px 2px rgba(60, 64, 67, 0.3), 0px 1px 3px 1px rgba(60, 64, 67, 0.15);\n",
              "      fill: #174EA6;\n",
              "    }\n",
              "\n",
              "    .colab-df-buttons div {\n",
              "      margin-bottom: 4px;\n",
              "    }\n",
              "\n",
              "    [theme=dark] .colab-df-convert {\n",
              "      background-color: #3B4455;\n",
              "      fill: #D2E3FC;\n",
              "    }\n",
              "\n",
              "    [theme=dark] .colab-df-convert:hover {\n",
              "      background-color: #434B5C;\n",
              "      box-shadow: 0px 1px 3px 1px rgba(0, 0, 0, 0.15);\n",
              "      filter: drop-shadow(0px 1px 2px rgba(0, 0, 0, 0.3));\n",
              "      fill: #FFFFFF;\n",
              "    }\n",
              "  </style>\n",
              "\n",
              "    <script>\n",
              "      const buttonEl =\n",
              "        document.querySelector('#df-b9410d8a-f1aa-485b-b91c-f015577e3293 button.colab-df-convert');\n",
              "      buttonEl.style.display =\n",
              "        google.colab.kernel.accessAllowed ? 'block' : 'none';\n",
              "\n",
              "      async function convertToInteractive(key) {\n",
              "        const element = document.querySelector('#df-b9410d8a-f1aa-485b-b91c-f015577e3293');\n",
              "        const dataTable =\n",
              "          await google.colab.kernel.invokeFunction('convertToInteractive',\n",
              "                                                    [key], {});\n",
              "        if (!dataTable) return;\n",
              "\n",
              "        const docLinkHtml = 'Like what you see? Visit the ' +\n",
              "          '<a target=\"_blank\" href=https://colab.research.google.com/notebooks/data_table.ipynb>data table notebook</a>'\n",
              "          + ' to learn more about interactive tables.';\n",
              "        element.innerHTML = '';\n",
              "        dataTable['output_type'] = 'display_data';\n",
              "        await google.colab.output.renderOutput(dataTable, element);\n",
              "        const docLink = document.createElement('div');\n",
              "        docLink.innerHTML = docLinkHtml;\n",
              "        element.appendChild(docLink);\n",
              "      }\n",
              "    </script>\n",
              "  </div>\n",
              "\n",
              "\n",
              "<div id=\"df-7b3f8063-543a-4f2c-b64b-8d4bbaef07fc\">\n",
              "  <button class=\"colab-df-quickchart\" onclick=\"quickchart('df-7b3f8063-543a-4f2c-b64b-8d4bbaef07fc')\"\n",
              "            title=\"Suggest charts.\"\n",
              "            style=\"display:none;\">\n",
              "\n",
              "<svg xmlns=\"http://www.w3.org/2000/svg\" height=\"24px\"viewBox=\"0 0 24 24\"\n",
              "     width=\"24px\">\n",
              "    <g>\n",
              "        <path d=\"M19 3H5c-1.1 0-2 .9-2 2v14c0 1.1.9 2 2 2h14c1.1 0 2-.9 2-2V5c0-1.1-.9-2-2-2zM9 17H7v-7h2v7zm4 0h-2V7h2v10zm4 0h-2v-4h2v4z\"/>\n",
              "    </g>\n",
              "</svg>\n",
              "  </button>\n",
              "\n",
              "<style>\n",
              "  .colab-df-quickchart {\n",
              "      --bg-color: #E8F0FE;\n",
              "      --fill-color: #1967D2;\n",
              "      --hover-bg-color: #E2EBFA;\n",
              "      --hover-fill-color: #174EA6;\n",
              "      --disabled-fill-color: #AAA;\n",
              "      --disabled-bg-color: #DDD;\n",
              "  }\n",
              "\n",
              "  [theme=dark] .colab-df-quickchart {\n",
              "      --bg-color: #3B4455;\n",
              "      --fill-color: #D2E3FC;\n",
              "      --hover-bg-color: #434B5C;\n",
              "      --hover-fill-color: #FFFFFF;\n",
              "      --disabled-bg-color: #3B4455;\n",
              "      --disabled-fill-color: #666;\n",
              "  }\n",
              "\n",
              "  .colab-df-quickchart {\n",
              "    background-color: var(--bg-color);\n",
              "    border: none;\n",
              "    border-radius: 50%;\n",
              "    cursor: pointer;\n",
              "    display: none;\n",
              "    fill: var(--fill-color);\n",
              "    height: 32px;\n",
              "    padding: 0;\n",
              "    width: 32px;\n",
              "  }\n",
              "\n",
              "  .colab-df-quickchart:hover {\n",
              "    background-color: var(--hover-bg-color);\n",
              "    box-shadow: 0 1px 2px rgba(60, 64, 67, 0.3), 0 1px 3px 1px rgba(60, 64, 67, 0.15);\n",
              "    fill: var(--button-hover-fill-color);\n",
              "  }\n",
              "\n",
              "  .colab-df-quickchart-complete:disabled,\n",
              "  .colab-df-quickchart-complete:disabled:hover {\n",
              "    background-color: var(--disabled-bg-color);\n",
              "    fill: var(--disabled-fill-color);\n",
              "    box-shadow: none;\n",
              "  }\n",
              "\n",
              "  .colab-df-spinner {\n",
              "    border: 2px solid var(--fill-color);\n",
              "    border-color: transparent;\n",
              "    border-bottom-color: var(--fill-color);\n",
              "    animation:\n",
              "      spin 1s steps(1) infinite;\n",
              "  }\n",
              "\n",
              "  @keyframes spin {\n",
              "    0% {\n",
              "      border-color: transparent;\n",
              "      border-bottom-color: var(--fill-color);\n",
              "      border-left-color: var(--fill-color);\n",
              "    }\n",
              "    20% {\n",
              "      border-color: transparent;\n",
              "      border-left-color: var(--fill-color);\n",
              "      border-top-color: var(--fill-color);\n",
              "    }\n",
              "    30% {\n",
              "      border-color: transparent;\n",
              "      border-left-color: var(--fill-color);\n",
              "      border-top-color: var(--fill-color);\n",
              "      border-right-color: var(--fill-color);\n",
              "    }\n",
              "    40% {\n",
              "      border-color: transparent;\n",
              "      border-right-color: var(--fill-color);\n",
              "      border-top-color: var(--fill-color);\n",
              "    }\n",
              "    60% {\n",
              "      border-color: transparent;\n",
              "      border-right-color: var(--fill-color);\n",
              "    }\n",
              "    80% {\n",
              "      border-color: transparent;\n",
              "      border-right-color: var(--fill-color);\n",
              "      border-bottom-color: var(--fill-color);\n",
              "    }\n",
              "    90% {\n",
              "      border-color: transparent;\n",
              "      border-bottom-color: var(--fill-color);\n",
              "    }\n",
              "  }\n",
              "</style>\n",
              "\n",
              "  <script>\n",
              "    async function quickchart(key) {\n",
              "      const quickchartButtonEl =\n",
              "        document.querySelector('#' + key + ' button');\n",
              "      quickchartButtonEl.disabled = true;  // To prevent multiple clicks.\n",
              "      quickchartButtonEl.classList.add('colab-df-spinner');\n",
              "      try {\n",
              "        const charts = await google.colab.kernel.invokeFunction(\n",
              "            'suggestCharts', [key], {});\n",
              "      } catch (error) {\n",
              "        console.error('Error during call to suggestCharts:', error);\n",
              "      }\n",
              "      quickchartButtonEl.classList.remove('colab-df-spinner');\n",
              "      quickchartButtonEl.classList.add('colab-df-quickchart-complete');\n",
              "    }\n",
              "    (() => {\n",
              "      let quickchartButtonEl =\n",
              "        document.querySelector('#df-7b3f8063-543a-4f2c-b64b-8d4bbaef07fc button');\n",
              "      quickchartButtonEl.style.display =\n",
              "        google.colab.kernel.accessAllowed ? 'block' : 'none';\n",
              "    })();\n",
              "  </script>\n",
              "</div>\n",
              "    </div>\n",
              "  </div>\n"
            ]
          },
          "metadata": {},
          "execution_count": 11
        }
      ],
      "source": [
        "train.head()"
      ]
    },
    {
      "cell_type": "code",
      "execution_count": null,
      "metadata": {
        "colab": {
          "base_uri": "https://localhost:8080/",
          "height": 256
        },
        "id": "8XATq9XwxSjK",
        "outputId": "90f53481-8c2e-49b3-c8b0-88ebcbfd8166"
      },
      "outputs": [
        {
          "output_type": "execute_result",
          "data": {
            "text/plain": [
              "   id  ps_ind_01  ps_ind_02_cat  ps_ind_03  ps_ind_04_cat  ps_ind_05_cat  \\\n",
              "0   0          0              1          8              1              0   \n",
              "1   1          4              2          5              1              0   \n",
              "2   2          5              1          3              0              0   \n",
              "3   3          0              1          6              0              0   \n",
              "4   4          5              1          7              0              0   \n",
              "\n",
              "   ps_ind_06_bin  ps_ind_07_bin  ps_ind_08_bin  ps_ind_09_bin  ...  \\\n",
              "0              0              1              0              0  ...   \n",
              "1              0              0              0              1  ...   \n",
              "2              0              0              0              1  ...   \n",
              "3              1              0              0              0  ...   \n",
              "4              0              0              0              1  ...   \n",
              "\n",
              "   ps_calc_11  ps_calc_12  ps_calc_13  ps_calc_14  ps_calc_15_bin  \\\n",
              "0           1           1           1          12               0   \n",
              "1           2           0           3          10               0   \n",
              "2           4           0           2           4               0   \n",
              "3           5           1           0           5               1   \n",
              "4           4           0           0           4               0   \n",
              "\n",
              "   ps_calc_16_bin  ps_calc_17_bin  ps_calc_18_bin  ps_calc_19_bin  \\\n",
              "0               1               1               0               0   \n",
              "1               0               1               1               0   \n",
              "2               0               0               0               0   \n",
              "3               0               1               0               0   \n",
              "4               1               1               0               0   \n",
              "\n",
              "   ps_calc_20_bin  \n",
              "0               1  \n",
              "1               1  \n",
              "2               0  \n",
              "3               0  \n",
              "4               1  \n",
              "\n",
              "[5 rows x 58 columns]"
            ],
            "text/html": [
              "\n",
              "  <div id=\"df-abdcdd9a-a2c3-4ad2-8d5c-9d5fdd1f2e4f\" class=\"colab-df-container\">\n",
              "    <div>\n",
              "<style scoped>\n",
              "    .dataframe tbody tr th:only-of-type {\n",
              "        vertical-align: middle;\n",
              "    }\n",
              "\n",
              "    .dataframe tbody tr th {\n",
              "        vertical-align: top;\n",
              "    }\n",
              "\n",
              "    .dataframe thead th {\n",
              "        text-align: right;\n",
              "    }\n",
              "</style>\n",
              "<table border=\"1\" class=\"dataframe\">\n",
              "  <thead>\n",
              "    <tr style=\"text-align: right;\">\n",
              "      <th></th>\n",
              "      <th>id</th>\n",
              "      <th>ps_ind_01</th>\n",
              "      <th>ps_ind_02_cat</th>\n",
              "      <th>ps_ind_03</th>\n",
              "      <th>ps_ind_04_cat</th>\n",
              "      <th>ps_ind_05_cat</th>\n",
              "      <th>ps_ind_06_bin</th>\n",
              "      <th>ps_ind_07_bin</th>\n",
              "      <th>ps_ind_08_bin</th>\n",
              "      <th>ps_ind_09_bin</th>\n",
              "      <th>...</th>\n",
              "      <th>ps_calc_11</th>\n",
              "      <th>ps_calc_12</th>\n",
              "      <th>ps_calc_13</th>\n",
              "      <th>ps_calc_14</th>\n",
              "      <th>ps_calc_15_bin</th>\n",
              "      <th>ps_calc_16_bin</th>\n",
              "      <th>ps_calc_17_bin</th>\n",
              "      <th>ps_calc_18_bin</th>\n",
              "      <th>ps_calc_19_bin</th>\n",
              "      <th>ps_calc_20_bin</th>\n",
              "    </tr>\n",
              "  </thead>\n",
              "  <tbody>\n",
              "    <tr>\n",
              "      <th>0</th>\n",
              "      <td>0</td>\n",
              "      <td>0</td>\n",
              "      <td>1</td>\n",
              "      <td>8</td>\n",
              "      <td>1</td>\n",
              "      <td>0</td>\n",
              "      <td>0</td>\n",
              "      <td>1</td>\n",
              "      <td>0</td>\n",
              "      <td>0</td>\n",
              "      <td>...</td>\n",
              "      <td>1</td>\n",
              "      <td>1</td>\n",
              "      <td>1</td>\n",
              "      <td>12</td>\n",
              "      <td>0</td>\n",
              "      <td>1</td>\n",
              "      <td>1</td>\n",
              "      <td>0</td>\n",
              "      <td>0</td>\n",
              "      <td>1</td>\n",
              "    </tr>\n",
              "    <tr>\n",
              "      <th>1</th>\n",
              "      <td>1</td>\n",
              "      <td>4</td>\n",
              "      <td>2</td>\n",
              "      <td>5</td>\n",
              "      <td>1</td>\n",
              "      <td>0</td>\n",
              "      <td>0</td>\n",
              "      <td>0</td>\n",
              "      <td>0</td>\n",
              "      <td>1</td>\n",
              "      <td>...</td>\n",
              "      <td>2</td>\n",
              "      <td>0</td>\n",
              "      <td>3</td>\n",
              "      <td>10</td>\n",
              "      <td>0</td>\n",
              "      <td>0</td>\n",
              "      <td>1</td>\n",
              "      <td>1</td>\n",
              "      <td>0</td>\n",
              "      <td>1</td>\n",
              "    </tr>\n",
              "    <tr>\n",
              "      <th>2</th>\n",
              "      <td>2</td>\n",
              "      <td>5</td>\n",
              "      <td>1</td>\n",
              "      <td>3</td>\n",
              "      <td>0</td>\n",
              "      <td>0</td>\n",
              "      <td>0</td>\n",
              "      <td>0</td>\n",
              "      <td>0</td>\n",
              "      <td>1</td>\n",
              "      <td>...</td>\n",
              "      <td>4</td>\n",
              "      <td>0</td>\n",
              "      <td>2</td>\n",
              "      <td>4</td>\n",
              "      <td>0</td>\n",
              "      <td>0</td>\n",
              "      <td>0</td>\n",
              "      <td>0</td>\n",
              "      <td>0</td>\n",
              "      <td>0</td>\n",
              "    </tr>\n",
              "    <tr>\n",
              "      <th>3</th>\n",
              "      <td>3</td>\n",
              "      <td>0</td>\n",
              "      <td>1</td>\n",
              "      <td>6</td>\n",
              "      <td>0</td>\n",
              "      <td>0</td>\n",
              "      <td>1</td>\n",
              "      <td>0</td>\n",
              "      <td>0</td>\n",
              "      <td>0</td>\n",
              "      <td>...</td>\n",
              "      <td>5</td>\n",
              "      <td>1</td>\n",
              "      <td>0</td>\n",
              "      <td>5</td>\n",
              "      <td>1</td>\n",
              "      <td>0</td>\n",
              "      <td>1</td>\n",
              "      <td>0</td>\n",
              "      <td>0</td>\n",
              "      <td>0</td>\n",
              "    </tr>\n",
              "    <tr>\n",
              "      <th>4</th>\n",
              "      <td>4</td>\n",
              "      <td>5</td>\n",
              "      <td>1</td>\n",
              "      <td>7</td>\n",
              "      <td>0</td>\n",
              "      <td>0</td>\n",
              "      <td>0</td>\n",
              "      <td>0</td>\n",
              "      <td>0</td>\n",
              "      <td>1</td>\n",
              "      <td>...</td>\n",
              "      <td>4</td>\n",
              "      <td>0</td>\n",
              "      <td>0</td>\n",
              "      <td>4</td>\n",
              "      <td>0</td>\n",
              "      <td>1</td>\n",
              "      <td>1</td>\n",
              "      <td>0</td>\n",
              "      <td>0</td>\n",
              "      <td>1</td>\n",
              "    </tr>\n",
              "  </tbody>\n",
              "</table>\n",
              "<p>5 rows × 58 columns</p>\n",
              "</div>\n",
              "    <div class=\"colab-df-buttons\">\n",
              "\n",
              "  <div class=\"colab-df-container\">\n",
              "    <button class=\"colab-df-convert\" onclick=\"convertToInteractive('df-abdcdd9a-a2c3-4ad2-8d5c-9d5fdd1f2e4f')\"\n",
              "            title=\"Convert this dataframe to an interactive table.\"\n",
              "            style=\"display:none;\">\n",
              "\n",
              "  <svg xmlns=\"http://www.w3.org/2000/svg\" height=\"24px\" viewBox=\"0 -960 960 960\">\n",
              "    <path d=\"M120-120v-720h720v720H120Zm60-500h600v-160H180v160Zm220 220h160v-160H400v160Zm0 220h160v-160H400v160ZM180-400h160v-160H180v160Zm440 0h160v-160H620v160ZM180-180h160v-160H180v160Zm440 0h160v-160H620v160Z\"/>\n",
              "  </svg>\n",
              "    </button>\n",
              "\n",
              "  <style>\n",
              "    .colab-df-container {\n",
              "      display:flex;\n",
              "      gap: 12px;\n",
              "    }\n",
              "\n",
              "    .colab-df-convert {\n",
              "      background-color: #E8F0FE;\n",
              "      border: none;\n",
              "      border-radius: 50%;\n",
              "      cursor: pointer;\n",
              "      display: none;\n",
              "      fill: #1967D2;\n",
              "      height: 32px;\n",
              "      padding: 0 0 0 0;\n",
              "      width: 32px;\n",
              "    }\n",
              "\n",
              "    .colab-df-convert:hover {\n",
              "      background-color: #E2EBFA;\n",
              "      box-shadow: 0px 1px 2px rgba(60, 64, 67, 0.3), 0px 1px 3px 1px rgba(60, 64, 67, 0.15);\n",
              "      fill: #174EA6;\n",
              "    }\n",
              "\n",
              "    .colab-df-buttons div {\n",
              "      margin-bottom: 4px;\n",
              "    }\n",
              "\n",
              "    [theme=dark] .colab-df-convert {\n",
              "      background-color: #3B4455;\n",
              "      fill: #D2E3FC;\n",
              "    }\n",
              "\n",
              "    [theme=dark] .colab-df-convert:hover {\n",
              "      background-color: #434B5C;\n",
              "      box-shadow: 0px 1px 3px 1px rgba(0, 0, 0, 0.15);\n",
              "      filter: drop-shadow(0px 1px 2px rgba(0, 0, 0, 0.3));\n",
              "      fill: #FFFFFF;\n",
              "    }\n",
              "  </style>\n",
              "\n",
              "    <script>\n",
              "      const buttonEl =\n",
              "        document.querySelector('#df-abdcdd9a-a2c3-4ad2-8d5c-9d5fdd1f2e4f button.colab-df-convert');\n",
              "      buttonEl.style.display =\n",
              "        google.colab.kernel.accessAllowed ? 'block' : 'none';\n",
              "\n",
              "      async function convertToInteractive(key) {\n",
              "        const element = document.querySelector('#df-abdcdd9a-a2c3-4ad2-8d5c-9d5fdd1f2e4f');\n",
              "        const dataTable =\n",
              "          await google.colab.kernel.invokeFunction('convertToInteractive',\n",
              "                                                    [key], {});\n",
              "        if (!dataTable) return;\n",
              "\n",
              "        const docLinkHtml = 'Like what you see? Visit the ' +\n",
              "          '<a target=\"_blank\" href=https://colab.research.google.com/notebooks/data_table.ipynb>data table notebook</a>'\n",
              "          + ' to learn more about interactive tables.';\n",
              "        element.innerHTML = '';\n",
              "        dataTable['output_type'] = 'display_data';\n",
              "        await google.colab.output.renderOutput(dataTable, element);\n",
              "        const docLink = document.createElement('div');\n",
              "        docLink.innerHTML = docLinkHtml;\n",
              "        element.appendChild(docLink);\n",
              "      }\n",
              "    </script>\n",
              "  </div>\n",
              "\n",
              "\n",
              "<div id=\"df-b55354cb-3468-401d-a563-94ab6a292ed2\">\n",
              "  <button class=\"colab-df-quickchart\" onclick=\"quickchart('df-b55354cb-3468-401d-a563-94ab6a292ed2')\"\n",
              "            title=\"Suggest charts.\"\n",
              "            style=\"display:none;\">\n",
              "\n",
              "<svg xmlns=\"http://www.w3.org/2000/svg\" height=\"24px\"viewBox=\"0 0 24 24\"\n",
              "     width=\"24px\">\n",
              "    <g>\n",
              "        <path d=\"M19 3H5c-1.1 0-2 .9-2 2v14c0 1.1.9 2 2 2h14c1.1 0 2-.9 2-2V5c0-1.1-.9-2-2-2zM9 17H7v-7h2v7zm4 0h-2V7h2v10zm4 0h-2v-4h2v4z\"/>\n",
              "    </g>\n",
              "</svg>\n",
              "  </button>\n",
              "\n",
              "<style>\n",
              "  .colab-df-quickchart {\n",
              "      --bg-color: #E8F0FE;\n",
              "      --fill-color: #1967D2;\n",
              "      --hover-bg-color: #E2EBFA;\n",
              "      --hover-fill-color: #174EA6;\n",
              "      --disabled-fill-color: #AAA;\n",
              "      --disabled-bg-color: #DDD;\n",
              "  }\n",
              "\n",
              "  [theme=dark] .colab-df-quickchart {\n",
              "      --bg-color: #3B4455;\n",
              "      --fill-color: #D2E3FC;\n",
              "      --hover-bg-color: #434B5C;\n",
              "      --hover-fill-color: #FFFFFF;\n",
              "      --disabled-bg-color: #3B4455;\n",
              "      --disabled-fill-color: #666;\n",
              "  }\n",
              "\n",
              "  .colab-df-quickchart {\n",
              "    background-color: var(--bg-color);\n",
              "    border: none;\n",
              "    border-radius: 50%;\n",
              "    cursor: pointer;\n",
              "    display: none;\n",
              "    fill: var(--fill-color);\n",
              "    height: 32px;\n",
              "    padding: 0;\n",
              "    width: 32px;\n",
              "  }\n",
              "\n",
              "  .colab-df-quickchart:hover {\n",
              "    background-color: var(--hover-bg-color);\n",
              "    box-shadow: 0 1px 2px rgba(60, 64, 67, 0.3), 0 1px 3px 1px rgba(60, 64, 67, 0.15);\n",
              "    fill: var(--button-hover-fill-color);\n",
              "  }\n",
              "\n",
              "  .colab-df-quickchart-complete:disabled,\n",
              "  .colab-df-quickchart-complete:disabled:hover {\n",
              "    background-color: var(--disabled-bg-color);\n",
              "    fill: var(--disabled-fill-color);\n",
              "    box-shadow: none;\n",
              "  }\n",
              "\n",
              "  .colab-df-spinner {\n",
              "    border: 2px solid var(--fill-color);\n",
              "    border-color: transparent;\n",
              "    border-bottom-color: var(--fill-color);\n",
              "    animation:\n",
              "      spin 1s steps(1) infinite;\n",
              "  }\n",
              "\n",
              "  @keyframes spin {\n",
              "    0% {\n",
              "      border-color: transparent;\n",
              "      border-bottom-color: var(--fill-color);\n",
              "      border-left-color: var(--fill-color);\n",
              "    }\n",
              "    20% {\n",
              "      border-color: transparent;\n",
              "      border-left-color: var(--fill-color);\n",
              "      border-top-color: var(--fill-color);\n",
              "    }\n",
              "    30% {\n",
              "      border-color: transparent;\n",
              "      border-left-color: var(--fill-color);\n",
              "      border-top-color: var(--fill-color);\n",
              "      border-right-color: var(--fill-color);\n",
              "    }\n",
              "    40% {\n",
              "      border-color: transparent;\n",
              "      border-right-color: var(--fill-color);\n",
              "      border-top-color: var(--fill-color);\n",
              "    }\n",
              "    60% {\n",
              "      border-color: transparent;\n",
              "      border-right-color: var(--fill-color);\n",
              "    }\n",
              "    80% {\n",
              "      border-color: transparent;\n",
              "      border-right-color: var(--fill-color);\n",
              "      border-bottom-color: var(--fill-color);\n",
              "    }\n",
              "    90% {\n",
              "      border-color: transparent;\n",
              "      border-bottom-color: var(--fill-color);\n",
              "    }\n",
              "  }\n",
              "</style>\n",
              "\n",
              "  <script>\n",
              "    async function quickchart(key) {\n",
              "      const quickchartButtonEl =\n",
              "        document.querySelector('#' + key + ' button');\n",
              "      quickchartButtonEl.disabled = true;  // To prevent multiple clicks.\n",
              "      quickchartButtonEl.classList.add('colab-df-spinner');\n",
              "      try {\n",
              "        const charts = await google.colab.kernel.invokeFunction(\n",
              "            'suggestCharts', [key], {});\n",
              "      } catch (error) {\n",
              "        console.error('Error during call to suggestCharts:', error);\n",
              "      }\n",
              "      quickchartButtonEl.classList.remove('colab-df-spinner');\n",
              "      quickchartButtonEl.classList.add('colab-df-quickchart-complete');\n",
              "    }\n",
              "    (() => {\n",
              "      let quickchartButtonEl =\n",
              "        document.querySelector('#df-b55354cb-3468-401d-a563-94ab6a292ed2 button');\n",
              "      quickchartButtonEl.style.display =\n",
              "        google.colab.kernel.accessAllowed ? 'block' : 'none';\n",
              "    })();\n",
              "  </script>\n",
              "</div>\n",
              "    </div>\n",
              "  </div>\n"
            ]
          },
          "metadata": {},
          "execution_count": 12
        }
      ],
      "source": [
        "test.head()"
      ]
    },
    {
      "cell_type": "code",
      "execution_count": null,
      "metadata": {
        "id": "LQYtZIbCArjr"
      },
      "outputs": [],
      "source": [
        "# datos faltantes a simular (5%)\n",
        "frac_missing = 0.05\n",
        "\n",
        "# 3 columnas para simular datos faltantes\n",
        "columns_with_missing = ['ps_ind_06_bin', 'ps_ind_07_bin', 'ps_ind_08_bin']\n",
        "\n",
        "for column in columns_with_missing:\n",
        "    # cantidad de filas para simular datos faltantes\n",
        "    num_missing_test = int(test.shape[0] * frac_missing)\n",
        "\n",
        "    # índices aleatorios para las filas a las que se les asignarán valores faltantes\n",
        "    missing_indices_test = np.random.choice(test.shape[0], num_missing_test, replace=False)\n",
        "\n",
        "    # Asigna NaN a las filas seleccionadas en la columna actual en ambos conjuntos\n",
        "    train.loc[:, column] = np.nan\n",
        "    test.loc[:, column] = np.nan\n"
      ]
    },
    {
      "cell_type": "code",
      "execution_count": null,
      "metadata": {
        "colab": {
          "base_uri": "https://localhost:8080/"
        },
        "id": "7eEiyois0xau",
        "outputId": "3d38b300-d907-463e-d00f-8cba910f432b"
      },
      "outputs": [
        {
          "output_type": "stream",
          "name": "stdout",
          "text": [
            "<class 'pandas.core.frame.DataFrame'>\n",
            "RangeIndex: 595212 entries, 0 to 595211\n",
            "Data columns (total 59 columns):\n",
            " #   Column          Non-Null Count   Dtype  \n",
            "---  ------          --------------   -----  \n",
            " 0   id              595212 non-null  int64  \n",
            " 1   target          595212 non-null  int64  \n",
            " 2   ps_ind_01       595212 non-null  int64  \n",
            " 3   ps_ind_02_cat   595212 non-null  int64  \n",
            " 4   ps_ind_03       595212 non-null  int64  \n",
            " 5   ps_ind_04_cat   595212 non-null  int64  \n",
            " 6   ps_ind_05_cat   595212 non-null  int64  \n",
            " 7   ps_ind_06_bin   0 non-null       float64\n",
            " 8   ps_ind_07_bin   0 non-null       float64\n",
            " 9   ps_ind_08_bin   0 non-null       float64\n",
            " 10  ps_ind_09_bin   595212 non-null  int64  \n",
            " 11  ps_ind_10_bin   595212 non-null  int64  \n",
            " 12  ps_ind_11_bin   595212 non-null  int64  \n",
            " 13  ps_ind_12_bin   595212 non-null  int64  \n",
            " 14  ps_ind_13_bin   595212 non-null  int64  \n",
            " 15  ps_ind_14       595212 non-null  int64  \n",
            " 16  ps_ind_15       595212 non-null  int64  \n",
            " 17  ps_ind_16_bin   595212 non-null  int64  \n",
            " 18  ps_ind_17_bin   595212 non-null  int64  \n",
            " 19  ps_ind_18_bin   595212 non-null  int64  \n",
            " 20  ps_reg_01       595212 non-null  float64\n",
            " 21  ps_reg_02       595212 non-null  float64\n",
            " 22  ps_reg_03       595212 non-null  float64\n",
            " 23  ps_car_01_cat   595212 non-null  int64  \n",
            " 24  ps_car_02_cat   595212 non-null  int64  \n",
            " 25  ps_car_03_cat   595212 non-null  int64  \n",
            " 26  ps_car_04_cat   595212 non-null  int64  \n",
            " 27  ps_car_05_cat   595212 non-null  int64  \n",
            " 28  ps_car_06_cat   595212 non-null  int64  \n",
            " 29  ps_car_07_cat   595212 non-null  int64  \n",
            " 30  ps_car_08_cat   595212 non-null  int64  \n",
            " 31  ps_car_09_cat   595212 non-null  int64  \n",
            " 32  ps_car_10_cat   595212 non-null  int64  \n",
            " 33  ps_car_11_cat   595212 non-null  int64  \n",
            " 34  ps_car_11       595212 non-null  int64  \n",
            " 35  ps_car_12       595212 non-null  float64\n",
            " 36  ps_car_13       595212 non-null  float64\n",
            " 37  ps_car_14       595212 non-null  float64\n",
            " 38  ps_car_15       595212 non-null  float64\n",
            " 39  ps_calc_01      595212 non-null  float64\n",
            " 40  ps_calc_02      595212 non-null  float64\n",
            " 41  ps_calc_03      595212 non-null  float64\n",
            " 42  ps_calc_04      595212 non-null  int64  \n",
            " 43  ps_calc_05      595212 non-null  int64  \n",
            " 44  ps_calc_06      595212 non-null  int64  \n",
            " 45  ps_calc_07      595212 non-null  int64  \n",
            " 46  ps_calc_08      595212 non-null  int64  \n",
            " 47  ps_calc_09      595212 non-null  int64  \n",
            " 48  ps_calc_10      595212 non-null  int64  \n",
            " 49  ps_calc_11      595212 non-null  int64  \n",
            " 50  ps_calc_12      595212 non-null  int64  \n",
            " 51  ps_calc_13      595212 non-null  int64  \n",
            " 52  ps_calc_14      595212 non-null  int64  \n",
            " 53  ps_calc_15_bin  595212 non-null  int64  \n",
            " 54  ps_calc_16_bin  595212 non-null  int64  \n",
            " 55  ps_calc_17_bin  595212 non-null  int64  \n",
            " 56  ps_calc_18_bin  595212 non-null  int64  \n",
            " 57  ps_calc_19_bin  595212 non-null  int64  \n",
            " 58  ps_calc_20_bin  595212 non-null  int64  \n",
            "dtypes: float64(13), int64(46)\n",
            "memory usage: 267.9 MB\n"
          ]
        }
      ],
      "source": [
        "train.info()"
      ]
    },
    {
      "cell_type": "code",
      "execution_count": null,
      "metadata": {
        "colab": {
          "base_uri": "https://localhost:8080/"
        },
        "id": "DdrV_eDU05pA",
        "outputId": "aa619709-1c7d-421e-d148-cabf659fa904"
      },
      "outputs": [
        {
          "output_type": "stream",
          "name": "stdout",
          "text": [
            "<class 'pandas.core.frame.DataFrame'>\n",
            "RangeIndex: 892816 entries, 0 to 892815\n",
            "Data columns (total 58 columns):\n",
            " #   Column          Non-Null Count   Dtype  \n",
            "---  ------          --------------   -----  \n",
            " 0   id              892816 non-null  int64  \n",
            " 1   ps_ind_01       892816 non-null  int64  \n",
            " 2   ps_ind_02_cat   892816 non-null  int64  \n",
            " 3   ps_ind_03       892816 non-null  int64  \n",
            " 4   ps_ind_04_cat   892816 non-null  int64  \n",
            " 5   ps_ind_05_cat   892816 non-null  int64  \n",
            " 6   ps_ind_06_bin   0 non-null       float64\n",
            " 7   ps_ind_07_bin   0 non-null       float64\n",
            " 8   ps_ind_08_bin   0 non-null       float64\n",
            " 9   ps_ind_09_bin   892816 non-null  int64  \n",
            " 10  ps_ind_10_bin   892816 non-null  int64  \n",
            " 11  ps_ind_11_bin   892816 non-null  int64  \n",
            " 12  ps_ind_12_bin   892816 non-null  int64  \n",
            " 13  ps_ind_13_bin   892816 non-null  int64  \n",
            " 14  ps_ind_14       892816 non-null  int64  \n",
            " 15  ps_ind_15       892816 non-null  int64  \n",
            " 16  ps_ind_16_bin   892816 non-null  int64  \n",
            " 17  ps_ind_17_bin   892816 non-null  int64  \n",
            " 18  ps_ind_18_bin   892816 non-null  int64  \n",
            " 19  ps_reg_01       892816 non-null  float64\n",
            " 20  ps_reg_02       892816 non-null  float64\n",
            " 21  ps_reg_03       892816 non-null  float64\n",
            " 22  ps_car_01_cat   892816 non-null  int64  \n",
            " 23  ps_car_02_cat   892816 non-null  int64  \n",
            " 24  ps_car_03_cat   892816 non-null  int64  \n",
            " 25  ps_car_04_cat   892816 non-null  int64  \n",
            " 26  ps_car_05_cat   892816 non-null  int64  \n",
            " 27  ps_car_06_cat   892816 non-null  int64  \n",
            " 28  ps_car_07_cat   892816 non-null  int64  \n",
            " 29  ps_car_08_cat   892816 non-null  int64  \n",
            " 30  ps_car_09_cat   892816 non-null  int64  \n",
            " 31  ps_car_10_cat   892816 non-null  int64  \n",
            " 32  ps_car_11_cat   892816 non-null  int64  \n",
            " 33  ps_car_11       892816 non-null  int64  \n",
            " 34  ps_car_12       892816 non-null  float64\n",
            " 35  ps_car_13       892816 non-null  float64\n",
            " 36  ps_car_14       892816 non-null  float64\n",
            " 37  ps_car_15       892816 non-null  float64\n",
            " 38  ps_calc_01      892816 non-null  float64\n",
            " 39  ps_calc_02      892816 non-null  float64\n",
            " 40  ps_calc_03      892816 non-null  float64\n",
            " 41  ps_calc_04      892816 non-null  int64  \n",
            " 42  ps_calc_05      892816 non-null  int64  \n",
            " 43  ps_calc_06      892816 non-null  int64  \n",
            " 44  ps_calc_07      892816 non-null  int64  \n",
            " 45  ps_calc_08      892816 non-null  int64  \n",
            " 46  ps_calc_09      892816 non-null  int64  \n",
            " 47  ps_calc_10      892816 non-null  int64  \n",
            " 48  ps_calc_11      892816 non-null  int64  \n",
            " 49  ps_calc_12      892816 non-null  int64  \n",
            " 50  ps_calc_13      892816 non-null  int64  \n",
            " 51  ps_calc_14      892816 non-null  int64  \n",
            " 52  ps_calc_15_bin  892816 non-null  int64  \n",
            " 53  ps_calc_16_bin  892816 non-null  int64  \n",
            " 54  ps_calc_17_bin  892816 non-null  int64  \n",
            " 55  ps_calc_18_bin  892816 non-null  int64  \n",
            " 56  ps_calc_19_bin  892816 non-null  int64  \n",
            " 57  ps_calc_20_bin  892816 non-null  int64  \n",
            "dtypes: float64(13), int64(45)\n",
            "memory usage: 395.1 MB\n"
          ]
        }
      ],
      "source": [
        "test.info()"
      ]
    },
    {
      "cell_type": "markdown",
      "metadata": {
        "id": "rZxCFrg02-6g"
      },
      "source": [
        "# **Métrica de puntuación de kaggle**"
      ]
    },
    {
      "cell_type": "markdown",
      "source": [
        "Se evalua la métrica sugerida en Kaggle:\n",
        "Código para calcular el coeficiente de Gini normalizado de: https://www.kaggle.com/c/ClaimPredictionChallenge/discussion/703\n"
      ],
      "metadata": {
        "id": "TRxBpt-_MhSG"
      }
    },
    {
      "cell_type": "code",
      "source": [
        "def gini(actual, pred, cmpcol = 0, sortcol = 1):\n",
        "    assert( len(actual) == len(pred) )\n",
        "    all = np.asarray(np.c_[ actual, pred, np.arange(len(actual)) ], dtype=np.float)\n",
        "    all = all[ np.lexsort((all[:,2], -1*all[:,1])) ]\n",
        "    totalLosses = all[:,0].sum()\n",
        "    giniSum = all[:,0].cumsum().sum() / totalLosses\n",
        "\n",
        "    giniSum -= (len(actual) + 1) / 2\n",
        "    return giniSum / len(actual)\n",
        "\n",
        "def gini_normalized(a, p):\n",
        "    '''Function to calculate the normalized gini coefficient'''\n",
        "    return gini(a, p) / gini(a, a)"
      ],
      "metadata": {
        "id": "KXG4-OEXMfww"
      },
      "execution_count": null,
      "outputs": []
    },
    {
      "cell_type": "code",
      "source": [
        "#valores faltantes\n",
        "def missing_values(data):\n",
        "    '''Function to find the percentage of missing values in each column of a DataFrame passed'''\n",
        "    for i in data.columns.values:\n",
        "        count =  data[data[i] == -1].shape[0]\n",
        "        print(\"Missing Values in '{}' : {:.4f} %\".format(i, (count/data.shape[0])*100))"
      ],
      "metadata": {
        "id": "tsdCqO23Prp5"
      },
      "execution_count": null,
      "outputs": []
    },
    {
      "cell_type": "code",
      "source": [
        "#Relleno de valores faltantes\n",
        "def filling_missing_values(data):\n",
        "    '''A function to fill in the missing values of categorical features'''\n",
        "    for i in tqdm(data.columns.values):\n",
        "        if data[data[i] == -1].shape[0] > 0:\n",
        "            if i == 'ps_car_03_cat' or i == 'ps_car_05_cat':\n",
        "                continue\n",
        "            elif i == 'ps_ind_05_cat' or i == 'ps_car_07_cat':\n",
        "                lst = data[i].apply(lambda x:data[i].mode() if x == -1 else x)\n",
        "                data[i] = pd.Series(lst)\n",
        "            else:\n",
        "                lst = data[i].apply(lambda x:data[i].mean() if x == -1 else x)\n",
        "                data[i] = pd.Series(lst)\n",
        "        else:\n",
        "            continue\n",
        "    return data"
      ],
      "metadata": {
        "id": "W-coJ7stPxhy"
      },
      "execution_count": null,
      "outputs": []
    },
    {
      "cell_type": "code",
      "source": [
        "def one_hot_encoding(train, test, cat_features):\n",
        "    '''Function to one-hot-encode categorical features'''\n",
        "    temp = pd.concat([train, test])\n",
        "    temp = pd.get_dummies(temp, columns = cat_features)\n",
        "    train = temp.iloc[:train.shape[0],:]\n",
        "    test = temp.iloc[train.shape[0]:, :]\n",
        "    return train, test"
      ],
      "metadata": {
        "id": "rH2X1fQLQcpb"
      },
      "execution_count": null,
      "outputs": []
    },
    {
      "cell_type": "code",
      "source": [
        "def target_encoding(train, test, target, cat_features):\n",
        "    '''Function to target encode categorical data'''\n",
        "    prior = target.mean()\n",
        "   # features = train.columns.values\n",
        "    train['target'] = target\n",
        "\n",
        "    def smooth(x, mean, count, prior, smoothing=1, min_samples_leaf = 1):\n",
        "        smoothing = 1 / (1 + np.exp(-(count - min_samples_leaf) / smoothing))\n",
        "        return (prior * (1 - smoothing) + mean * smoothing)\n",
        "\n",
        "    for i in cat_features:\n",
        "\n",
        "        v = train.groupby(i)['target'].agg(['mean','count'])\n",
        "\n",
        "        train[i] = train[i].apply(lambda x : smooth(x, v['mean'][x], v['count'][x], prior))\n",
        "        test[i] = test[i].apply(lambda x : smooth(x, v['mean'][x], v['count'][x], prior))\n",
        "\n",
        "    train.drop(['target'], axis=1, inplace = True)\n",
        "\n",
        "    return train, test"
      ],
      "metadata": {
        "id": "GEvMiW_8Qeor"
      },
      "execution_count": null,
      "outputs": []
    },
    {
      "cell_type": "code",
      "source": [
        "def label_encoding(train, test, cat_features):\n",
        "    '''Function to label encode categorical variables'''\n",
        "    for i in cat_features:\n",
        "        le = LabelEncoder()\n",
        "        le.fit(train[i])\n",
        "        train[i] = le.transform(train[i])\n",
        "        test[i] = le.transform(test[i])\n",
        "    return train, test"
      ],
      "metadata": {
        "id": "T7ZSVJLfQpjH"
      },
      "execution_count": null,
      "outputs": []
    },
    {
      "cell_type": "code",
      "source": [
        "def freq_encoding(train, test, cat_features):\n",
        "    '''Function to frequency encode categorical variables'''\n",
        "    for i in cat_features:\n",
        "        vc = train[i].value_counts()\n",
        "        train[i] = train[i].apply(lambda x: vc[x])\n",
        "        test[i] = test[i].apply(lambda x: vc[x])\n",
        "    return train, test"
      ],
      "metadata": {
        "id": "bnsT2iaiQqoG"
      },
      "execution_count": null,
      "outputs": []
    },
    {
      "cell_type": "markdown",
      "source": [
        "# **Exploración de los datos**"
      ],
      "metadata": {
        "id": "CiTCHIi8R8pg"
      }
    },
    {
      "cell_type": "code",
      "source": [
        "imbalance = y.value_counts()\n",
        "print(\"Porcentaje de seguro reclamado(Clase 1) : \", (imbalance[1]/train.shape[0])*100)\n",
        "print(\"PPorcentaje de seguro  NO reclamado(Clase 0) : \", (imbalance[0]/train.shape[0])*100)"
      ],
      "metadata": {
        "colab": {
          "base_uri": "https://localhost:8080/"
        },
        "id": "QKLMNrqYSFYl",
        "outputId": "2dacea76-e639-4f8f-9144-998f8d2e3e28"
      },
      "execution_count": null,
      "outputs": [
        {
          "output_type": "stream",
          "name": "stdout",
          "text": [
            "Porcentaje de seguro reclamado(Clase 1) :  3.6447517859182947\n",
            "PPorcentaje de seguro  NO reclamado(Clase 0) :  96.3552482140817\n"
          ]
        }
      ]
    },
    {
      "cell_type": "markdown",
      "source": [
        "El conjunto de datos esta muy desequilibrado: (96:4)"
      ],
      "metadata": {
        "id": "WFBgspbKTeqz"
      }
    },
    {
      "cell_type": "code",
      "source": [
        "#categoriza las caracteristicas del conjunto de datos\n",
        "all_features = train.columns.values\n",
        "cat_features = []\n",
        "for i in train.columns.values:\n",
        "    if i.endswith('cat'):\n",
        "        cat_features.append(i)\n",
        "    else:\n",
        "        continue\n",
        "\n",
        "bin_features = []\n",
        "for i in train.columns.values:\n",
        "    if i.endswith('bin'):\n",
        "        bin_features.append(i)\n",
        "    else:\n",
        "        continue\n",
        "\n",
        "calc_features = []\n",
        "for i in train.columns.values:\n",
        "    if i.startswith('ps_calc'):\n",
        "        calc_features.append(i)\n",
        "    else:\n",
        "        continue\n",
        "\n",
        "calc_bin_features = []\n",
        "for i in calc_features:\n",
        "    if i.endswith('bin'):\n",
        "        calc_bin_features.append(i)\n",
        "    else:\n",
        "        continue\n",
        "\n",
        "calc_num_features = list(set(calc_features) - set(calc_bin_features))\n",
        "num_features_with_calc = list((set(train.columns.values) - set(cat_features)) - set(bin_features))\n",
        "num_features_wo_calc = list(set(num_features_with_calc) - set(calc_features))"
      ],
      "metadata": {
        "id": "x8qvLfgfTlp0"
      },
      "execution_count": null,
      "outputs": []
    },
    {
      "cell_type": "markdown",
      "source": [
        "## **Características binarias**"
      ],
      "metadata": {
        "id": "pWZ0kxG6Ulwd"
      }
    },
    {
      "cell_type": "code",
      "source": [
        "plt.figure(figsize=(15,10))\n",
        "plt.title(\"Correlation Between Binary Features\")\n",
        "sns.heatmap(train[bin_features].corr(), cmap='Reds', annot = True, linewidths=0.01)"
      ],
      "metadata": {
        "colab": {
          "base_uri": "https://localhost:8080/",
          "height": 960
        },
        "id": "KjL4FhFQUwlG",
        "outputId": "faa767a8-ed84-442d-e31f-ca463ff82531"
      },
      "execution_count": null,
      "outputs": [
        {
          "output_type": "execute_result",
          "data": {
            "text/plain": [
              "<Axes: title={'center': 'Correlation Between Binary Features'}>"
            ]
          },
          "metadata": {},
          "execution_count": 34
        },
        {
          "output_type": "display_data",
          "data": {
            "text/plain": [
              "<Figure size 1500x1000 with 2 Axes>"
            ],
            "image/png": "[encoded data removed]"
          },
          "metadata": {}
        }
      ]
    },
    {
      "cell_type": "markdown",
      "source": [
        "Las características binarias no tienen ninguna correlación notable entre ellas. 'ps_ind_18_bin' y 'ps_ind_16_bin' tienen la correlación negativa más grande."
      ],
      "metadata": {
        "id": "9KBQ7PjyVNx2"
      }
    },
    {
      "cell_type": "code",
      "source": [
        "missing_values(train[bin_features])"
      ],
      "metadata": {
        "colab": {
          "base_uri": "https://localhost:8080/"
        },
        "id": "7ePQ939rVX2R",
        "outputId": "172e7417-84f0-4af5-f481-b9825384db31"
      },
      "execution_count": null,
      "outputs": [
        {
          "output_type": "stream",
          "name": "stdout",
          "text": [
            "Missing Values in 'ps_ind_06_bin' : 0.0000 %\n",
            "Missing Values in 'ps_ind_07_bin' : 0.0000 %\n",
            "Missing Values in 'ps_ind_08_bin' : 0.0000 %\n",
            "Missing Values in 'ps_ind_09_bin' : 0.0000 %\n",
            "Missing Values in 'ps_ind_10_bin' : 0.0000 %\n",
            "Missing Values in 'ps_ind_11_bin' : 0.0000 %\n",
            "Missing Values in 'ps_ind_12_bin' : 0.0000 %\n",
            "Missing Values in 'ps_ind_13_bin' : 0.0000 %\n",
            "Missing Values in 'ps_ind_16_bin' : 0.0000 %\n",
            "Missing Values in 'ps_ind_17_bin' : 0.0000 %\n",
            "Missing Values in 'ps_ind_18_bin' : 0.0000 %\n",
            "Missing Values in 'ps_calc_15_bin' : 0.0000 %\n",
            "Missing Values in 'ps_calc_16_bin' : 0.0000 %\n",
            "Missing Values in 'ps_calc_17_bin' : 0.0000 %\n",
            "Missing Values in 'ps_calc_18_bin' : 0.0000 %\n",
            "Missing Values in 'ps_calc_19_bin' : 0.0000 %\n",
            "Missing Values in 'ps_calc_20_bin' : 0.0000 %\n"
          ]
        }
      ]
    },
    {
      "cell_type": "markdown",
      "source": [
        "Las características binarias no contienen valores faltantes."
      ],
      "metadata": {
        "id": "W7m5LZzMVhAw"
      }
    },
    {
      "cell_type": "markdown",
      "source": [
        "## **Características categoricas**"
      ],
      "metadata": {
        "id": "mQhWK0HKWK6a"
      }
    },
    {
      "cell_type": "code",
      "source": [
        "for i in cat_features:\n",
        "    cardinality = len(list(train[i].unique()))\n",
        "    print(\"Cardinality of '{}' : {}\".format(i, cardinality))"
      ],
      "metadata": {
        "colab": {
          "base_uri": "https://localhost:8080/"
        },
        "id": "3gLVcQxuWKky",
        "outputId": "d3214d63-41fa-4d65-82ed-78ce7f4c48f3"
      },
      "execution_count": null,
      "outputs": [
        {
          "output_type": "stream",
          "name": "stdout",
          "text": [
            "Cardinality of 'ps_ind_02_cat' : 5\n",
            "Cardinality of 'ps_ind_04_cat' : 3\n",
            "Cardinality of 'ps_ind_05_cat' : 8\n",
            "Cardinality of 'ps_car_01_cat' : 13\n",
            "Cardinality of 'ps_car_02_cat' : 3\n",
            "Cardinality of 'ps_car_03_cat' : 3\n",
            "Cardinality of 'ps_car_04_cat' : 10\n",
            "Cardinality of 'ps_car_05_cat' : 3\n",
            "Cardinality of 'ps_car_06_cat' : 18\n",
            "Cardinality of 'ps_car_07_cat' : 3\n",
            "Cardinality of 'ps_car_08_cat' : 2\n",
            "Cardinality of 'ps_car_09_cat' : 6\n",
            "Cardinality of 'ps_car_10_cat' : 3\n",
            "Cardinality of 'ps_car_11_cat' : 104\n"
          ]
        }
      ]
    },
    {
      "cell_type": "markdown",
      "source": [
        "La característica 'ps_car_11_cat' se destaca entre las características categóricas ya que tiene la cardinalidad más alta. Resto todas las características tienen una cardinalidad relativamente baja."
      ],
      "metadata": {
        "id": "WxbA9pt-XBxO"
      }
    },
    {
      "cell_type": "code",
      "source": [
        "missing_values(train[cat_features])"
      ],
      "metadata": {
        "colab": {
          "base_uri": "https://localhost:8080/"
        },
        "id": "ZxrlRSJrXQ54",
        "outputId": "1030870c-97c4-4516-9f6f-fea8801cd73f"
      },
      "execution_count": null,
      "outputs": [
        {
          "output_type": "stream",
          "name": "stdout",
          "text": [
            "Missing Values in 'ps_ind_02_cat' : 0.0363 %\n",
            "Missing Values in 'ps_ind_04_cat' : 0.0139 %\n",
            "Missing Values in 'ps_ind_05_cat' : 0.9760 %\n",
            "Missing Values in 'ps_car_01_cat' : 0.0180 %\n",
            "Missing Values in 'ps_car_02_cat' : 0.0008 %\n",
            "Missing Values in 'ps_car_03_cat' : 69.0898 %\n",
            "Missing Values in 'ps_car_04_cat' : 0.0000 %\n",
            "Missing Values in 'ps_car_05_cat' : 44.7825 %\n",
            "Missing Values in 'ps_car_06_cat' : 0.0000 %\n",
            "Missing Values in 'ps_car_07_cat' : 1.9302 %\n",
            "Missing Values in 'ps_car_08_cat' : 0.0000 %\n",
            "Missing Values in 'ps_car_09_cat' : 0.0956 %\n",
            "Missing Values in 'ps_car_10_cat' : 0.0000 %\n",
            "Missing Values in 'ps_car_11_cat' : 0.0000 %\n"
          ]
        }
      ]
    },
    {
      "cell_type": "markdown",
      "source": [
        "cat_features contiene algunos valores faltantes.\n",
        "Una gran parte de las características 'ps_car_03_cat' y 'ps_car_05_cat' se componen de valores faltantes."
      ],
      "metadata": {
        "id": "WoV2bZSEXVzZ"
      }
    },
    {
      "cell_type": "code",
      "source": [
        "plt.figure(figsize=(15,10))\n",
        "plt.title(\"Correlation Between Categorical Features\")\n",
        "sns.heatmap(train[cat_features].corr(), cmap='Reds', annot = True, linewidths=0.01)"
      ],
      "metadata": {
        "colab": {
          "base_uri": "https://localhost:8080/",
          "height": 954
        },
        "id": "qNVZdBYmX1F7",
        "outputId": "6b41f1c2-b005-46c3-976a-c7465969f2c1"
      },
      "execution_count": null,
      "outputs": [
        {
          "output_type": "execute_result",
          "data": {
            "text/plain": [
              "<Axes: title={'center': 'Correlation Between Categorical Features'}>"
            ]
          },
          "metadata": {},
          "execution_count": 39
        },
        {
          "output_type": "display_data",
          "data": {
            "text/plain": [
              "<Figure size 1500x1000 with 2 Axes>"
            ],
            "image/png": "[encoded data removed]"
          },
          "metadata": {}
        }
      ]
    },
    {
      "cell_type": "markdown",
      "source": [
        "Las características categóricas no tienen ninguna correlación notable entre ellas."
      ],
      "metadata": {
        "id": "LC9MqFw3YC3I"
      }
    },
    {
      "cell_type": "markdown",
      "source": [
        "## **Características continuas**"
      ],
      "metadata": {
        "id": "Sm21NJFVYW4l"
      }
    },
    {
      "cell_type": "markdown",
      "source": [
        "Las funciones continuas se pueden separar en calc y el resto. Ambos se pueden buscar por separado."
      ],
      "metadata": {
        "id": "jACklhvJYlZd"
      }
    },
    {
      "cell_type": "code",
      "source": [
        "train[num_features_with_calc].describe()"
      ],
      "metadata": {
        "colab": {
          "base_uri": "https://localhost:8080/",
          "height": 350
        },
        "id": "at8CN6x7YeJY",
        "outputId": "b6a92108-b7a3-40e4-efdd-d53923dd6b1f"
      },
      "execution_count": null,
      "outputs": [
        {
          "output_type": "execute_result",
          "data": {
            "text/plain": [
              "           ps_ind_15     ps_calc_03     ps_calc_11     ps_calc_04  \\\n",
              "count  595212.000000  595212.000000  595212.000000  595212.000000   \n",
              "mean        7.299922       0.449849       5.441382       2.372081   \n",
              "std         3.546042       0.287153       2.332871       1.117219   \n",
              "min         0.000000       0.000000       0.000000       0.000000   \n",
              "25%         5.000000       0.200000       4.000000       2.000000   \n",
              "50%         7.000000       0.500000       5.000000       2.000000   \n",
              "75%        10.000000       0.700000       7.000000       3.000000   \n",
              "max        13.000000       0.900000      19.000000       5.000000   \n",
              "\n",
              "           ps_ind_01      ps_car_12     ps_calc_01     ps_calc_08  \\\n",
              "count  595212.000000  595212.000000  595212.000000  595212.000000   \n",
              "mean        1.900378       0.379945       0.449756       9.225904   \n",
              "std         1.983789       0.058327       0.287198       1.459672   \n",
              "min         0.000000      -1.000000       0.000000       2.000000   \n",
              "25%         0.000000       0.316228       0.200000       8.000000   \n",
              "50%         1.000000       0.374166       0.500000       9.000000   \n",
              "75%         3.000000       0.400000       0.700000      10.000000   \n",
              "max         7.000000       1.264911       0.900000      12.000000   \n",
              "\n",
              "           ps_car_13     ps_calc_13  ...      ps_ind_14     ps_calc_06  \\\n",
              "count  595212.000000  595212.000000  ...  595212.000000  595212.000000   \n",
              "mean        0.813265       2.872288  ...       0.012451       7.689445   \n",
              "std         0.224588       1.694887  ...       0.127545       1.334312   \n",
              "min         0.250619       0.000000  ...       0.000000       0.000000   \n",
              "25%         0.670867       2.000000  ...       0.000000       7.000000   \n",
              "50%         0.765811       3.000000  ...       0.000000       8.000000   \n",
              "75%         0.906190       4.000000  ...       0.000000       9.000000   \n",
              "max         3.720626      13.000000  ...       4.000000      10.000000   \n",
              "\n",
              "           ps_reg_03     ps_calc_12     ps_calc_05      ps_reg_02  \\\n",
              "count  595212.000000  595212.000000  595212.000000  595212.000000   \n",
              "mean        0.551102       1.441918       1.885886       0.439184   \n",
              "std         0.793506       1.202963       1.134927       0.404264   \n",
              "min        -1.000000       0.000000       0.000000       0.000000   \n",
              "25%         0.525000       1.000000       1.000000       0.200000   \n",
              "50%         0.720677       1.000000       2.000000       0.300000   \n",
              "75%         1.000000       2.000000       3.000000       0.600000   \n",
              "max         4.037945      10.000000       6.000000       1.800000   \n",
              "\n",
              "          ps_calc_09      ps_reg_01      ps_car_14     ps_calc_10  \n",
              "count  595212.000000  595212.000000  595212.000000  595212.000000  \n",
              "mean        2.339034       0.610991       0.276256       8.433590  \n",
              "std         1.246949       0.287643       0.357154       2.904597  \n",
              "min         0.000000       0.000000      -1.000000       0.000000  \n",
              "25%         1.000000       0.400000       0.333167       6.000000  \n",
              "50%         2.000000       0.700000       0.368782       8.000000  \n",
              "75%         3.000000       0.900000       0.396485      10.000000  \n",
              "max         7.000000       0.900000       0.636396      25.000000  \n",
              "\n",
              "[8 rows x 26 columns]"
            ],
            "text/html": [
              "\n",
              "  <div id=\"df-3f7037ea-0a92-40a3-a3d7-a9c84659816b\" class=\"colab-df-container\">\n",
              "    <div>\n",
              "<style scoped>\n",
              "    .dataframe tbody tr th:only-of-type {\n",
              "        vertical-align: middle;\n",
              "    }\n",
              "\n",
              "    .dataframe tbody tr th {\n",
              "        vertical-align: top;\n",
              "    }\n",
              "\n",
              "    .dataframe thead th {\n",
              "        text-align: right;\n",
              "    }\n",
              "</style>\n",
              "<table border=\"1\" class=\"dataframe\">\n",
              "  <thead>\n",
              "    <tr style=\"text-align: right;\">\n",
              "      <th></th>\n",
              "      <th>ps_ind_15</th>\n",
              "      <th>ps_calc_03</th>\n",
              "      <th>ps_calc_11</th>\n",
              "      <th>ps_calc_04</th>\n",
              "      <th>ps_ind_01</th>\n",
              "      <th>ps_car_12</th>\n",
              "      <th>ps_calc_01</th>\n",
              "      <th>ps_calc_08</th>\n",
              "      <th>ps_car_13</th>\n",
              "      <th>ps_calc_13</th>\n",
              "      <th>...</th>\n",
              "      <th>ps_ind_14</th>\n",
              "      <th>ps_calc_06</th>\n",
              "      <th>ps_reg_03</th>\n",
              "      <th>ps_calc_12</th>\n",
              "      <th>ps_calc_05</th>\n",
              "      <th>ps_reg_02</th>\n",
              "      <th>ps_calc_09</th>\n",
              "      <th>ps_reg_01</th>\n",
              "      <th>ps_car_14</th>\n",
              "      <th>ps_calc_10</th>\n",
              "    </tr>\n",
              "  </thead>\n",
              "  <tbody>\n",
              "    <tr>\n",
              "      <th>count</th>\n",
              "      <td>595212.000000</td>\n",
              "      <td>595212.000000</td>\n",
              "      <td>595212.000000</td>\n",
              "      <td>595212.000000</td>\n",
              "      <td>595212.000000</td>\n",
              "      <td>595212.000000</td>\n",
              "      <td>595212.000000</td>\n",
              "      <td>595212.000000</td>\n",
              "      <td>595212.000000</td>\n",
              "      <td>595212.000000</td>\n",
              "      <td>...</td>\n",
              "      <td>595212.000000</td>\n",
              "      <td>595212.000000</td>\n",
              "      <td>595212.000000</td>\n",
              "      <td>595212.000000</td>\n",
              "      <td>595212.000000</td>\n",
              "      <td>595212.000000</td>\n",
              "      <td>595212.000000</td>\n",
              "      <td>595212.000000</td>\n",
              "      <td>595212.000000</td>\n",
              "      <td>595212.000000</td>\n",
              "    </tr>\n",
              "    <tr>\n",
              "      <th>mean</th>\n",
              "      <td>7.299922</td>\n",
              "      <td>0.449849</td>\n",
              "      <td>5.441382</td>\n",
              "      <td>2.372081</td>\n",
              "      <td>1.900378</td>\n",
              "      <td>0.379945</td>\n",
              "      <td>0.449756</td>\n",
              "      <td>9.225904</td>\n",
              "      <td>0.813265</td>\n",
              "      <td>2.872288</td>\n",
              "      <td>...</td>\n",
              "      <td>0.012451</td>\n",
              "      <td>7.689445</td>\n",
              "      <td>0.551102</td>\n",
              "      <td>1.441918</td>\n",
              "      <td>1.885886</td>\n",
              "      <td>0.439184</td>\n",
              "      <td>2.339034</td>\n",
              "      <td>0.610991</td>\n",
              "      <td>0.276256</td>\n",
              "      <td>8.433590</td>\n",
              "    </tr>\n",
              "    <tr>\n",
              "      <th>std</th>\n",
              "      <td>3.546042</td>\n",
              "      <td>0.287153</td>\n",
              "      <td>2.332871</td>\n",
              "      <td>1.117219</td>\n",
              "      <td>1.983789</td>\n",
              "      <td>0.058327</td>\n",
              "      <td>0.287198</td>\n",
              "      <td>1.459672</td>\n",
              "      <td>0.224588</td>\n",
              "      <td>1.694887</td>\n",
              "      <td>...</td>\n",
              "      <td>0.127545</td>\n",
              "      <td>1.334312</td>\n",
              "      <td>0.793506</td>\n",
              "      <td>1.202963</td>\n",
              "      <td>1.134927</td>\n",
              "      <td>0.404264</td>\n",
              "      <td>1.246949</td>\n",
              "      <td>0.287643</td>\n",
              "      <td>0.357154</td>\n",
              "      <td>2.904597</td>\n",
              "    </tr>\n",
              "    <tr>\n",
              "      <th>min</th>\n",
              "      <td>0.000000</td>\n",
              "      <td>0.000000</td>\n",
              "      <td>0.000000</td>\n",
              "      <td>0.000000</td>\n",
              "      <td>0.000000</td>\n",
              "      <td>-1.000000</td>\n",
              "      <td>0.000000</td>\n",
              "      <td>2.000000</td>\n",
              "      <td>0.250619</td>\n",
              "      <td>0.000000</td>\n",
              "      <td>...</td>\n",
              "      <td>0.000000</td>\n",
              "      <td>0.000000</td>\n",
              "      <td>-1.000000</td>\n",
              "      <td>0.000000</td>\n",
              "      <td>0.000000</td>\n",
              "      <td>0.000000</td>\n",
              "      <td>0.000000</td>\n",
              "      <td>0.000000</td>\n",
              "      <td>-1.000000</td>\n",
              "      <td>0.000000</td>\n",
              "    </tr>\n",
              "    <tr>\n",
              "      <th>25%</th>\n",
              "      <td>5.000000</td>\n",
              "      <td>0.200000</td>\n",
              "      <td>4.000000</td>\n",
              "      <td>2.000000</td>\n",
              "      <td>0.000000</td>\n",
              "      <td>0.316228</td>\n",
              "      <td>0.200000</td>\n",
              "      <td>8.000000</td>\n",
              "      <td>0.670867</td>\n",
              "      <td>2.000000</td>\n",
              "      <td>...</td>\n",
              "      <td>0.000000</td>\n",
              "      <td>7.000000</td>\n",
              "      <td>0.525000</td>\n",
              "      <td>1.000000</td>\n",
              "      <td>1.000000</td>\n",
              "      <td>0.200000</td>\n",
              "      <td>1.000000</td>\n",
              "      <td>0.400000</td>\n",
              "      <td>0.333167</td>\n",
              "      <td>6.000000</td>\n",
              "    </tr>\n",
              "    <tr>\n",
              "      <th>50%</th>\n",
              "      <td>7.000000</td>\n",
              "      <td>0.500000</td>\n",
              "      <td>5.000000</td>\n",
              "      <td>2.000000</td>\n",
              "      <td>1.000000</td>\n",
              "      <td>0.374166</td>\n",
              "      <td>0.500000</td>\n",
              "      <td>9.000000</td>\n",
              "      <td>0.765811</td>\n",
              "      <td>3.000000</td>\n",
              "      <td>...</td>\n",
              "      <td>0.000000</td>\n",
              "      <td>8.000000</td>\n",
              "      <td>0.720677</td>\n",
              "      <td>1.000000</td>\n",
              "      <td>2.000000</td>\n",
              "      <td>0.300000</td>\n",
              "      <td>2.000000</td>\n",
              "      <td>0.700000</td>\n",
              "      <td>0.368782</td>\n",
              "      <td>8.000000</td>\n",
              "    </tr>\n",
              "    <tr>\n",
              "      <th>75%</th>\n",
              "      <td>10.000000</td>\n",
              "      <td>0.700000</td>\n",
              "      <td>7.000000</td>\n",
              "      <td>3.000000</td>\n",
              "      <td>3.000000</td>\n",
              "      <td>0.400000</td>\n",
              "      <td>0.700000</td>\n",
              "      <td>10.000000</td>\n",
              "      <td>0.906190</td>\n",
              "      <td>4.000000</td>\n",
              "      <td>...</td>\n",
              "      <td>0.000000</td>\n",
              "      <td>9.000000</td>\n",
              "      <td>1.000000</td>\n",
              "      <td>2.000000</td>\n",
              "      <td>3.000000</td>\n",
              "      <td>0.600000</td>\n",
              "      <td>3.000000</td>\n",
              "      <td>0.900000</td>\n",
              "      <td>0.396485</td>\n",
              "      <td>10.000000</td>\n",
              "    </tr>\n",
              "    <tr>\n",
              "      <th>max</th>\n",
              "      <td>13.000000</td>\n",
              "      <td>0.900000</td>\n",
              "      <td>19.000000</td>\n",
              "      <td>5.000000</td>\n",
              "      <td>7.000000</td>\n",
              "      <td>1.264911</td>\n",
              "      <td>0.900000</td>\n",
              "      <td>12.000000</td>\n",
              "      <td>3.720626</td>\n",
              "      <td>13.000000</td>\n",
              "      <td>...</td>\n",
              "      <td>4.000000</td>\n",
              "      <td>10.000000</td>\n",
              "      <td>4.037945</td>\n",
              "      <td>10.000000</td>\n",
              "      <td>6.000000</td>\n",
              "      <td>1.800000</td>\n",
              "      <td>7.000000</td>\n",
              "      <td>0.900000</td>\n",
              "      <td>0.636396</td>\n",
              "      <td>25.000000</td>\n",
              "    </tr>\n",
              "  </tbody>\n",
              "</table>\n",
              "<p>8 rows × 26 columns</p>\n",
              "</div>\n",
              "    <div class=\"colab-df-buttons\">\n",
              "\n",
              "  <div class=\"colab-df-container\">\n",
              "    <button class=\"colab-df-convert\" onclick=\"convertToInteractive('df-3f7037ea-0a92-40a3-a3d7-a9c84659816b')\"\n",
              "            title=\"Convert this dataframe to an interactive table.\"\n",
              "            style=\"display:none;\">\n",
              "\n",
              "  <svg xmlns=\"http://www.w3.org/2000/svg\" height=\"24px\" viewBox=\"0 -960 960 960\">\n",
              "    <path d=\"M120-120v-720h720v720H120Zm60-500h600v-160H180v160Zm220 220h160v-160H400v160Zm0 220h160v-160H400v160ZM180-400h160v-160H180v160Zm440 0h160v-160H620v160ZM180-180h160v-160H180v160Zm440 0h160v-160H620v160Z\"/>\n",
              "  </svg>\n",
              "    </button>\n",
              "\n",
              "  <style>\n",
              "    .colab-df-container {\n",
              "      display:flex;\n",
              "      gap: 12px;\n",
              "    }\n",
              "\n",
              "    .colab-df-convert {\n",
              "      background-color: #E8F0FE;\n",
              "      border: none;\n",
              "      border-radius: 50%;\n",
              "      cursor: pointer;\n",
              "      display: none;\n",
              "      fill: #1967D2;\n",
              "      height: 32px;\n",
              "      padding: 0 0 0 0;\n",
              "      width: 32px;\n",
              "    }\n",
              "\n",
              "    .colab-df-convert:hover {\n",
              "      background-color: #E2EBFA;\n",
              "      box-shadow: 0px 1px 2px rgba(60, 64, 67, 0.3), 0px 1px 3px 1px rgba(60, 64, 67, 0.15);\n",
              "      fill: #174EA6;\n",
              "    }\n",
              "\n",
              "    .colab-df-buttons div {\n",
              "      margin-bottom: 4px;\n",
              "    }\n",
              "\n",
              "    [theme=dark] .colab-df-convert {\n",
              "      background-color: #3B4455;\n",
              "      fill: #D2E3FC;\n",
              "    }\n",
              "\n",
              "    [theme=dark] .colab-df-convert:hover {\n",
              "      background-color: #434B5C;\n",
              "      box-shadow: 0px 1px 3px 1px rgba(0, 0, 0, 0.15);\n",
              "      filter: drop-shadow(0px 1px 2px rgba(0, 0, 0, 0.3));\n",
              "      fill: #FFFFFF;\n",
              "    }\n",
              "  </style>\n",
              "\n",
              "    <script>\n",
              "      const buttonEl =\n",
              "        document.querySelector('#df-3f7037ea-0a92-40a3-a3d7-a9c84659816b button.colab-df-convert');\n",
              "      buttonEl.style.display =\n",
              "        google.colab.kernel.accessAllowed ? 'block' : 'none';\n",
              "\n",
              "      async function convertToInteractive(key) {\n",
              "        const element = document.querySelector('#df-3f7037ea-0a92-40a3-a3d7-a9c84659816b');\n",
              "        const dataTable =\n",
              "          await google.colab.kernel.invokeFunction('convertToInteractive',\n",
              "                                                    [key], {});\n",
              "        if (!dataTable) return;\n",
              "\n",
              "        const docLinkHtml = 'Like what you see? Visit the ' +\n",
              "          '<a target=\"_blank\" href=https://colab.research.google.com/notebooks/data_table.ipynb>data table notebook</a>'\n",
              "          + ' to learn more about interactive tables.';\n",
              "        element.innerHTML = '';\n",
              "        dataTable['output_type'] = 'display_data';\n",
              "        await google.colab.output.renderOutput(dataTable, element);\n",
              "        const docLink = document.createElement('div');\n",
              "        docLink.innerHTML = docLinkHtml;\n",
              "        element.appendChild(docLink);\n",
              "      }\n",
              "    </script>\n",
              "  </div>\n",
              "\n",
              "\n",
              "<div id=\"df-d087b06e-767b-4d6d-a1ca-e885a6ae0932\">\n",
              "  <button class=\"colab-df-quickchart\" onclick=\"quickchart('df-d087b06e-767b-4d6d-a1ca-e885a6ae0932')\"\n",
              "            title=\"Suggest charts.\"\n",
              "            style=\"display:none;\">\n",
              "\n",
              "<svg xmlns=\"http://www.w3.org/2000/svg\" height=\"24px\"viewBox=\"0 0 24 24\"\n",
              "     width=\"24px\">\n",
              "    <g>\n",
              "        <path d=\"M19 3H5c-1.1 0-2 .9-2 2v14c0 1.1.9 2 2 2h14c1.1 0 2-.9 2-2V5c0-1.1-.9-2-2-2zM9 17H7v-7h2v7zm4 0h-2V7h2v10zm4 0h-2v-4h2v4z\"/>\n",
              "    </g>\n",
              "</svg>\n",
              "  </button>\n",
              "\n",
              "<style>\n",
              "  .colab-df-quickchart {\n",
              "      --bg-color: #E8F0FE;\n",
              "      --fill-color: #1967D2;\n",
              "      --hover-bg-color: #E2EBFA;\n",
              "      --hover-fill-color: #174EA6;\n",
              "      --disabled-fill-color: #AAA;\n",
              "      --disabled-bg-color: #DDD;\n",
              "  }\n",
              "\n",
              "  [theme=dark] .colab-df-quickchart {\n",
              "      --bg-color: #3B4455;\n",
              "      --fill-color: #D2E3FC;\n",
              "      --hover-bg-color: #434B5C;\n",
              "      --hover-fill-color: #FFFFFF;\n",
              "      --disabled-bg-color: #3B4455;\n",
              "      --disabled-fill-color: #666;\n",
              "  }\n",
              "\n",
              "  .colab-df-quickchart {\n",
              "    background-color: var(--bg-color);\n",
              "    border: none;\n",
              "    border-radius: 50%;\n",
              "    cursor: pointer;\n",
              "    display: none;\n",
              "    fill: var(--fill-color);\n",
              "    height: 32px;\n",
              "    padding: 0;\n",
              "    width: 32px;\n",
              "  }\n",
              "\n",
              "  .colab-df-quickchart:hover {\n",
              "    background-color: var(--hover-bg-color);\n",
              "    box-shadow: 0 1px 2px rgba(60, 64, 67, 0.3), 0 1px 3px 1px rgba(60, 64, 67, 0.15);\n",
              "    fill: var(--button-hover-fill-color);\n",
              "  }\n",
              "\n",
              "  .colab-df-quickchart-complete:disabled,\n",
              "  .colab-df-quickchart-complete:disabled:hover {\n",
              "    background-color: var(--disabled-bg-color);\n",
              "    fill: var(--disabled-fill-color);\n",
              "    box-shadow: none;\n",
              "  }\n",
              "\n",
              "  .colab-df-spinner {\n",
              "    border: 2px solid var(--fill-color);\n",
              "    border-color: transparent;\n",
              "    border-bottom-color: var(--fill-color);\n",
              "    animation:\n",
              "      spin 1s steps(1) infinite;\n",
              "  }\n",
              "\n",
              "  @keyframes spin {\n",
              "    0% {\n",
              "      border-color: transparent;\n",
              "      border-bottom-color: var(--fill-color);\n",
              "      border-left-color: var(--fill-color);\n",
              "    }\n",
              "    20% {\n",
              "      border-color: transparent;\n",
              "      border-left-color: var(--fill-color);\n",
              "      border-top-color: var(--fill-color);\n",
              "    }\n",
              "    30% {\n",
              "      border-color: transparent;\n",
              "      border-left-color: var(--fill-color);\n",
              "      border-top-color: var(--fill-color);\n",
              "      border-right-color: var(--fill-color);\n",
              "    }\n",
              "    40% {\n",
              "      border-color: transparent;\n",
              "      border-right-color: var(--fill-color);\n",
              "      border-top-color: var(--fill-color);\n",
              "    }\n",
              "    60% {\n",
              "      border-color: transparent;\n",
              "      border-right-color: var(--fill-color);\n",
              "    }\n",
              "    80% {\n",
              "      border-color: transparent;\n",
              "      border-right-color: var(--fill-color);\n",
              "      border-bottom-color: var(--fill-color);\n",
              "    }\n",
              "    90% {\n",
              "      border-color: transparent;\n",
              "      border-bottom-color: var(--fill-color);\n",
              "    }\n",
              "  }\n",
              "</style>\n",
              "\n",
              "  <script>\n",
              "    async function quickchart(key) {\n",
              "      const quickchartButtonEl =\n",
              "        document.querySelector('#' + key + ' button');\n",
              "      quickchartButtonEl.disabled = true;  // To prevent multiple clicks.\n",
              "      quickchartButtonEl.classList.add('colab-df-spinner');\n",
              "      try {\n",
              "        const charts = await google.colab.kernel.invokeFunction(\n",
              "            'suggestCharts', [key], {});\n",
              "      } catch (error) {\n",
              "        console.error('Error during call to suggestCharts:', error);\n",
              "      }\n",
              "      quickchartButtonEl.classList.remove('colab-df-spinner');\n",
              "      quickchartButtonEl.classList.add('colab-df-quickchart-complete');\n",
              "    }\n",
              "    (() => {\n",
              "      let quickchartButtonEl =\n",
              "        document.querySelector('#df-d087b06e-767b-4d6d-a1ca-e885a6ae0932 button');\n",
              "      quickchartButtonEl.style.display =\n",
              "        google.colab.kernel.accessAllowed ? 'block' : 'none';\n",
              "    })();\n",
              "  </script>\n",
              "</div>\n",
              "    </div>\n",
              "  </div>\n"
            ]
          },
          "metadata": {},
          "execution_count": 40
        }
      ]
    },
    {
      "cell_type": "code",
      "source": [
        "missing_values(train[num_features_wo_calc])"
      ],
      "metadata": {
        "colab": {
          "base_uri": "https://localhost:8080/"
        },
        "id": "pJ2JgCXTYxHm",
        "outputId": "4b883422-2c54-4a75-e8b7-53c98b081472"
      },
      "execution_count": null,
      "outputs": [
        {
          "output_type": "stream",
          "name": "stdout",
          "text": [
            "Missing Values in 'ps_ind_15' : 0.0000 %\n",
            "Missing Values in 'ps_reg_02' : 0.0000 %\n",
            "Missing Values in 'ps_reg_03' : 18.1065 %\n",
            "Missing Values in 'ps_car_11' : 0.0008 %\n",
            "Missing Values in 'ps_ind_03' : 0.0000 %\n",
            "Missing Values in 'ps_reg_01' : 0.0000 %\n",
            "Missing Values in 'ps_car_14' : 7.1605 %\n",
            "Missing Values in 'ps_car_13' : 0.0000 %\n",
            "Missing Values in 'ps_car_15' : 0.0000 %\n",
            "Missing Values in 'ps_ind_01' : 0.0000 %\n",
            "Missing Values in 'ps_ind_14' : 0.0000 %\n",
            "Missing Values in 'ps_car_12' : 0.0002 %\n"
          ]
        }
      ]
    },
    {
      "cell_type": "code",
      "source": [
        "missing_values(train[calc_num_features])"
      ],
      "metadata": {
        "colab": {
          "base_uri": "https://localhost:8080/"
        },
        "id": "pXffBgB-Y1LS",
        "outputId": "1f490aeb-6c56-4daf-ca22-ce93e87a1b1b"
      },
      "execution_count": null,
      "outputs": [
        {
          "output_type": "stream",
          "name": "stdout",
          "text": [
            "Missing Values in 'ps_calc_07' : 0.0000 %\n",
            "Missing Values in 'ps_calc_03' : 0.0000 %\n",
            "Missing Values in 'ps_calc_14' : 0.0000 %\n",
            "Missing Values in 'ps_calc_09' : 0.0000 %\n",
            "Missing Values in 'ps_calc_11' : 0.0000 %\n",
            "Missing Values in 'ps_calc_10' : 0.0000 %\n",
            "Missing Values in 'ps_calc_01' : 0.0000 %\n",
            "Missing Values in 'ps_calc_04' : 0.0000 %\n",
            "Missing Values in 'ps_calc_02' : 0.0000 %\n",
            "Missing Values in 'ps_calc_08' : 0.0000 %\n",
            "Missing Values in 'ps_calc_13' : 0.0000 %\n",
            "Missing Values in 'ps_calc_06' : 0.0000 %\n",
            "Missing Values in 'ps_calc_12' : 0.0000 %\n",
            "Missing Values in 'ps_calc_05' : 0.0000 %\n"
          ]
        }
      ]
    },
    {
      "cell_type": "markdown",
      "source": [
        "# **Modelo predictivo**"
      ],
      "metadata": {
        "id": "DLmedXq1Rhk3"
      }
    },
    {
      "cell_type": "code",
      "source": [
        "#randomforest\n",
        "#XGBoost"
      ],
      "metadata": {
        "id": "FhRe623oRyr5"
      },
      "execution_count": null,
      "outputs": []
    },
    {
      "cell_type": "code",
      "source": [
        "from sklearn.model_selection import train_test_split\n",
        "X_train, X_cv, y_train, y_cv = train_test_split(train, y, test_size = 0.2, stratify = y, random_state = 2019)"
      ],
      "metadata": {
        "id": "BoOqUHvAmqNa"
      },
      "execution_count": null,
      "outputs": []
    },
    {
      "cell_type": "markdown",
      "source": [
        "Dado que nuestros datos están muy desequilibrados, realizaremos una división estratificada en nuestro conjunto de datos. Conservará el porcentaje de muestras para nuestra división. Las predicciones de una división no estratificada no preservarán la distribución original de nuestra clase objetivo. Por lo tanto, un conjunto de datos desequilibrado debe dividirse de forma estratificada."
      ],
      "metadata": {
        "id": "FAsZ9ef0nPju"
      }
    },
    {
      "cell_type": "code",
      "source": [
        "scaler = StandardScaler()\n",
        "scaler.fit(X_train[num_features_wo_calc])\n",
        "\n",
        "X_train[num_features_wo_calc] = scaler.transform(X_train[num_features_wo_calc])\n",
        "X_cv[num_features_wo_calc] = scaler.transform(X_cv[num_features_wo_calc])"
      ],
      "metadata": {
        "id": "Gt9T7jrIoVjz"
      },
      "execution_count": null,
      "outputs": []
    },
    {
      "cell_type": "code",
      "source": [
        "print(\"X_train Shape : \", X_train.shape)\n",
        "print(\"X_cv Shape : \", X_cv.shape)"
      ],
      "metadata": {
        "colab": {
          "base_uri": "https://localhost:8080/"
        },
        "id": "Lc-Qmsd7oXV6",
        "outputId": "32a4f869-ff5b-4e82-a4a9-a1bb9025311f"
      },
      "execution_count": null,
      "outputs": [
        {
          "output_type": "stream",
          "name": "stdout",
          "text": [
            "X_train Shape :  (476169, 57)\n",
            "X_cv Shape :  (119043, 57)\n"
          ]
        }
      ]
    },
    {
      "cell_type": "markdown",
      "source": [
        "## **Regresión logística**"
      ],
      "metadata": {
        "id": "NPlcxCk1o6cy"
      }
    },
    {
      "cell_type": "code",
      "source": [
        "alpha = [0.0001,0.001,0.01,0.03]\n",
        "auc_lr1 = {}\n",
        "gini_lr1 = {}\n",
        "for i in alpha:\n",
        "    lr = SGDClassifier(loss='log', alpha=i, n_jobs=-1)\n",
        "    lr.fit(X_train, y_train)\n",
        "\n",
        "    auc_lr1[i] = roc_auc_score(y_cv, lr.predict_proba(X_cv)[:,1])\n",
        "    gini_lr1[i] = gini_normalized(y_cv, lr.predict_proba(X_cv)[:,1])"
      ],
      "metadata": {
        "id": "GmnxcFHgo6HO"
      },
      "execution_count": null,
      "outputs": []
    },
    {
      "cell_type": "code",
      "source": [
        "h = max(gini_lr1, key=auc_lr1.get)\n",
        "print('Best Gini:', gini_lr1[h])\n",
        "print('Best AUC:', auc_lr1[h])\n",
        "print('Best Parameters:', h)"
      ],
      "metadata": {
        "colab": {
          "base_uri": "https://localhost:8080/"
        },
        "id": "YWZqJ_PrpQT9",
        "outputId": "c9a300e4-f7e5-4c32-f94e-963de1f405ee"
      },
      "execution_count": null,
      "outputs": [
        {
          "output_type": "stream",
          "name": "stdout",
          "text": [
            "Best Gini: 0.20842862622226493\n",
            "Best AUC: 0.6042143131111324\n",
            "Best Parameters: 0.03\n"
          ]
        }
      ]
    },
    {
      "cell_type": "code",
      "source": [
        "auc_lr2 = {}\n",
        "gini_lr2 = {}\n",
        "alpha = [0.0001,0.001,0.01,0.03]\n",
        "for i in alpha:\n",
        "    lr = SGDClassifier(loss='log', alpha=i, penalty = 'l1', n_jobs=-1)\n",
        "    lr.fit(X_train, y_train)\n",
        "\n",
        "    auc_lr2[i] = roc_auc_score(y_cv, lr.predict_proba(X_cv)[:,1])\n",
        "    gini_lr2[i] = gini_normalized(y_cv, lr.predict_proba(X_cv)[:,1])"
      ],
      "metadata": {
        "id": "4KixA-VZqGqQ"
      },
      "execution_count": null,
      "outputs": []
    },
    {
      "cell_type": "code",
      "source": [
        "h = max(gini_lr2, key=auc_lr2.get)\n",
        "print('Best Gini:', gini_lr2[h])\n",
        "print('Best AUC:', auc_lr2[h])\n",
        "print('Best Parameters:', h)"
      ],
      "metadata": {
        "colab": {
          "base_uri": "https://localhost:8080/"
        },
        "id": "vlrQxAOVqSV1",
        "outputId": "c748b075-c452-4033-97a4-89a012e8d8b9"
      },
      "execution_count": null,
      "outputs": [
        {
          "output_type": "stream",
          "name": "stdout",
          "text": [
            "Best Gini: 0.2492481263677499\n",
            "Best AUC: 0.624624063183875\n",
            "Best Parameters: 0.0001\n"
          ]
        }
      ]
    },
    {
      "cell_type": "markdown",
      "source": [
        "La regresión logística no parece producir un buen resultado para este problema"
      ],
      "metadata": {
        "id": "gdU0hy8jqoxc"
      }
    },
    {
      "cell_type": "markdown",
      "source": [
        "## **SVM**"
      ],
      "metadata": {
        "id": "2FO4u9cwpLkr"
      }
    },
    {
      "cell_type": "code",
      "source": [
        "alpha = [0.0001,0.001,0.01,0.03]\n",
        "auc_svm1 = {}\n",
        "gini_svm1 = {}\n",
        "for i in alpha:\n",
        "    svm = SGDClassifier(alpha=i, n_jobs=-1)\n",
        "    calib = CalibratedClassifierCV(svm, cv=3)\n",
        "    calib.fit(X_train, y_train)\n",
        "\n",
        "    auc_svm1[i] = roc_auc_score(y_cv, calib.predict_proba(X_cv)[:,1])\n",
        "    gini_svm1[i] = gini_normalized(y_cv, calib.predict_proba(X_cv)[:,1])"
      ],
      "metadata": {
        "id": "ZoAQuC8Fqq8w"
      },
      "execution_count": null,
      "outputs": []
    },
    {
      "cell_type": "code",
      "source": [
        "h = max(gini_svm1, key=auc_svm1.get)\n",
        "print('Best Gini:', gini_svm1[h])\n",
        "print('Best AUC:', auc_svm1[h])\n",
        "print('Best Parameters:', h)"
      ],
      "metadata": {
        "colab": {
          "base_uri": "https://localhost:8080/"
        },
        "id": "BUFT1YRvqzFD",
        "outputId": "3b546675-8c48-4ef2-f047-178065fd1e6c"
      },
      "execution_count": null,
      "outputs": [
        {
          "output_type": "stream",
          "name": "stdout",
          "text": [
            "Best Gini: 0.1308366368719433\n",
            "Best AUC: 0.5654183184359718\n",
            "Best Parameters: 0.001\n"
          ]
        }
      ]
    },
    {
      "cell_type": "markdown",
      "source": [
        "SVM tampoco esta produciendo un buen resultado"
      ],
      "metadata": {
        "id": "iZ9Vml46r1rB"
      }
    },
    {
      "cell_type": "markdown",
      "source": [
        "## **RandomForest**"
      ],
      "metadata": {
        "id": "m58y4ir3rB9V"
      }
    },
    {
      "cell_type": "code",
      "source": [
        "n_est = [1000,1200,1300,1400]\n",
        "min_samples_leaf = [1000,1100,1200,1300]\n",
        "auc_rf1 = {}\n",
        "gini_rf1 = {}\n",
        "for i in n_est:\n",
        "    for j in min_samples_leaf:\n",
        "        rf = RandomForestClassifier(n_estimators=i, min_samples_leaf=j, n_jobs=-1)\n",
        "        rf.fit(X_train, y_train)\n",
        "\n",
        "        auc_rf1[(i,j)] = roc_auc_score(y_cv, rf.predict_proba(X_cv)[:,1])\n",
        "        gini_rf1[(i,j)] = gini_normalized(y_cv, rf.predict_proba(X_cv)[:,1])"
      ],
      "metadata": {
        "id": "zVjdeXUsrU3I"
      },
      "execution_count": null,
      "outputs": []
    },
    {
      "cell_type": "code",
      "source": [
        "h = max(gini_rf1, key=auc_rf1.get)\n",
        "print('Best Gini:', gini_rf1[h])\n",
        "print('Best AUC:', auc_rf1[h])\n",
        "print('Best Parameters:', h)"
      ],
      "metadata": {
        "id": "jcvb3AI2rffB"
      },
      "execution_count": null,
      "outputs": []
    },
    {
      "cell_type": "code",
      "source": [
        "max_leaf_nodes = [90,100,120,150]\n",
        "auc_rf2 = {}\n",
        "gini_rf2 = {}\n",
        "for i in max_leaf_nodes:\n",
        "    rf = RandomForestClassifier(n_estimators=1200, min_samples_leaf=1000, max_leaf_nodes=i, n_jobs=-1)\n",
        "    rf.fit(X_train, y_train)\n",
        "\n",
        "    auc_rf2[(i,j)] = roc_auc_score(y_cv, rf.predict_proba(X_cv)[:,1])\n",
        "    gini_rf2[(i,j)] = gini_normalized(y_cv, rf.predict_proba(X_cv)[:,1])"
      ],
      "metadata": {
        "id": "CyXr7aGOrlg9"
      },
      "execution_count": null,
      "outputs": []
    },
    {
      "cell_type": "code",
      "source": [
        "h = max(gini_rf2, key=auc_rf2.get)\n",
        "print('Best Gini:', gini_rf2[h])\n",
        "print('Best AUC:', auc_rf2[h])\n",
        "print('Best Parameters:', h)"
      ],
      "metadata": {
        "id": "v4eIeb-droND"
      },
      "execution_count": null,
      "outputs": []
    },
    {
      "cell_type": "markdown",
      "source": [
        "El RandomForests no esta dando buenos resultados"
      ],
      "metadata": {
        "id": "b0Op-ePHryso"
      }
    },
    {
      "cell_type": "markdown",
      "source": [
        "## **XGBoost**"
      ],
      "metadata": {
        "id": "fdwNVxEJsx8J"
      }
    },
    {
      "cell_type": "code",
      "source": [
        "n_estimators1 = [700,900,1200,1300]\n",
        "learning_rate = [0.01,0.1,0.3]\n",
        "auc_xgb1 = {}\n",
        "gini_xgb1 = {}\n",
        "for i in n_estimators1:\n",
        "    for j in learning_rate:\n",
        "        xgb_model = xgb.XGBClassifier(n_estimators = i, learning_rate=j, n_jobs=-1, tree_method = 'gpu_hist')\n",
        "        xgb_model.fit(X_train, y_train)\n",
        "\n",
        "        auc_xgb1[(i,j)] = roc_auc_score(y_cv, xgb_model.predict_proba(X_cv)[:,1])\n",
        "        gini_xgb1[(i,j)] = gini_normalized(y_cv, xgb_model.predict_proba(X_cv)[:,1])"
      ],
      "metadata": {
        "id": "eyneoU2BtAdQ"
      },
      "execution_count": null,
      "outputs": []
    },
    {
      "cell_type": "code",
      "source": [
        "h = max(gini_xgb1, key=auc_xgb1.get)\n",
        "print('Best Gini:', gini_xgb1[h])\n",
        "print('Best AUC:', auc_xgb1[h])\n",
        "print('Best Parameters:',h)"
      ],
      "metadata": {
        "id": "iPOh8yAptB0N"
      },
      "execution_count": null,
      "outputs": []
    },
    {
      "cell_type": "code",
      "source": [
        "max_depth = [3,5,7,9]\n",
        "subsample = [0.70,0.8,0.9]\n",
        "auc_xgb2 = {}\n",
        "gini_xgb2 = {}\n",
        "for i in max_depth:\n",
        "    for j in subsample:\n",
        "        xgb_model = xgb.XGBClassifier(n_estimators = 1300, learning_rate=0.01, subsample= j, max_depth=i, n_jobs=-1,\n",
        "                                     tree_method = 'gpu_hist')\n",
        "        xgb_model.fit(X_train, y_train)\n",
        "\n",
        "        auc_xgb2[(1300,0.01,i,j)] = roc_auc_score(y_cv, xgb_model.predict_proba(X_cv)[:,1])\n",
        "        gini_xgb2[(1300,0.01,i,j)] = gini_normalized(y_cv, xgb_model.predict_proba(X_cv)[:,1])"
      ],
      "metadata": {
        "id": "MhPWOCfjtHS_"
      },
      "execution_count": null,
      "outputs": []
    },
    {
      "cell_type": "code",
      "source": [
        "h = max(gini_xgb2, key=auc_xgb2.get)\n",
        "print('Best Gini:', gini_xgb2[h])\n",
        "print('Best AUC:', auc_xgb2[h])\n",
        "print('Best Parameters:', h)"
      ],
      "metadata": {
        "id": "BQLBLtl1tIw0"
      },
      "execution_count": null,
      "outputs": []
    },
    {
      "cell_type": "code",
      "source": [
        "auc_xgb3 = {}\n",
        "gini_xgb3 = {}\n",
        "n_estimators2 = [1250,1300,1350,1400,1450,1500]\n",
        "for j in n_estimators2:\n",
        "    xgb_model = xgb.XGBClassifier(n_estimators = j, learning_rate=0.01, subsample= 0.8, max_depth=5, n_jobs=-1,\n",
        "                                 tree_method = 'gpu_hist')\n",
        "    xgb_model.fit(X_train, y_train)\n",
        "\n",
        "    auc_xgb3[(j,0.01,5,0.8)] = roc_auc_score(y_cv, xgb_model.predict_proba(X_cv)[:,1])\n",
        "    gini_xgb3[(j,0.01,5,0.8)] = gini_normalized(y_cv, xgb_model.predict_proba(X_cv)[:,1])"
      ],
      "metadata": {
        "id": "e9tIxPdvtNnM"
      },
      "execution_count": null,
      "outputs": []
    },
    {
      "cell_type": "code",
      "source": [
        "h = max(gini_xgb3, key=auc_xgb3.get)\n",
        "print('Best Gini:', gini_xgb3[h])\n",
        "print('Best AUC:', auc_xgb3[h])\n",
        "print('Best Parameters:', h)"
      ],
      "metadata": {
        "id": "RDNuraRKtOZ7"
      },
      "execution_count": null,
      "outputs": []
    },
    {
      "cell_type": "code",
      "source": [
        "auc_xgb4 = {}\n",
        "gini_xgb4 = {}\n",
        "lambda_l1 = [0.8,0.9,1]\n",
        "for j in lambda_l1:\n",
        "    xgb_model = xgb.XGBClassifier(n_estimators = 1400, learning_rate=0.01, subsample= 0.8, max_depth=5, n_jobs=-1, reg_alpha=j,\n",
        "                                 tree_method = 'gpu_hist')\n",
        "    xgb_model.fit(X_train, y_train)\n",
        "\n",
        "    auc_xgb4[(1400,0.01,5,0.8,j)] = roc_auc_score(y_cv, xgb_model.predict_proba(X_cv)[:,1])\n",
        "    gini_xgb4[(1400,0.01,5,0.8,j)] = gini_normalized(y_cv, xgb_model.predict_proba(X_cv)[:,1])"
      ],
      "metadata": {
        "id": "KdbA16jHtUKd"
      },
      "execution_count": null,
      "outputs": []
    },
    {
      "cell_type": "code",
      "source": [
        "h = max(gini_xgb4, key=auc_xgb4.get)\n",
        "print('Best Gini:', gini_xgb4[h])\n",
        "print('Best AUC:', auc_xgb4[h])\n",
        "print('Best Parameters:', h)"
      ],
      "metadata": {
        "id": "u1NmsSOYtV4c"
      },
      "execution_count": null,
      "outputs": []
    },
    {
      "cell_type": "code",
      "source": [
        "auc_xgb5 = {}\n",
        "gini_xgb5 = {}\n",
        "min_child_weight = [98,99,100,101]\n",
        "for j in min_child_weight:\n",
        "    xgb_model = xgb.XGBClassifier(n_estimators = 1400, learning_rate=0.01, subsample= 0.8, max_depth=5, n_jobs=-1, reg_alpha=1,\n",
        "                                 tree_method = 'gpu_hist', min_child_weight=j)\n",
        "    xgb_model.fit(X_train, y_train)\n",
        "\n",
        "    auc_xgb5[(1400,0.01,5,0.8,1,j)] = roc_auc_score(y_cv, xgb_model.predict_proba(X_cv)[:,1])\n",
        "    gini_xgb5[(1400,0.01,5,0.8,1,j)] = gini_normalized(y_cv, xgb_model.predict_proba(X_cv)[:,1])"
      ],
      "metadata": {
        "id": "A0GpDIijtas3"
      },
      "execution_count": null,
      "outputs": []
    },
    {
      "cell_type": "code",
      "source": [
        "h = max(gini_xgb5, key=auc_xgb5.get)\n",
        "print('Best Gini:', gini_xgb5[h])\n",
        "print('Best AUC:', auc_xgb5[h])\n",
        "print('Best Parameters:', h)"
      ],
      "metadata": {
        "id": "IG6wAor7tbVg"
      },
      "execution_count": null,
      "outputs": []
    },
    {
      "cell_type": "code",
      "source": [
        "#Parámetros finales del modelo.\n",
        "xgb_params = {}\n",
        "xgb_params['n_estimators'] = 1600\n",
        "xgb_params['learning_rate'] = 0.01\n",
        "xgb_params['max_depth'] = 5\n",
        "xgb_params['feature_fraction'] = 1\n",
        "xgb_params['min_child_weight'] = 100\n",
        "xgb_params['reg_alpha'] = 1\n",
        "xgb_params['subsample'] = 0.8\n",
        "xgb_params['tree_method'] = 'gpu_hist'"
      ],
      "metadata": {
        "id": "2xHb9tQltecx"
      },
      "execution_count": null,
      "outputs": []
    },
    {
      "cell_type": "code",
      "source": [
        "xgb_model = xgb.XGBClassifier(**xgb_params)\n",
        "xgb_model.fit(X_train, y_train)\n",
        "xgb_pred = xgb_model.predict_proba(X_cv)[:,1]"
      ],
      "metadata": {
        "id": "Tq-AOaeRtsKy"
      },
      "execution_count": null,
      "outputs": []
    },
    {
      "cell_type": "code",
      "source": [
        "roc_auc_score(y_cv, xgb_pred), gini_normalized(y_cv, xgb_pred)"
      ],
      "metadata": {
        "id": "CuRwgA7Ntvh8"
      },
      "execution_count": null,
      "outputs": []
    },
    {
      "cell_type": "code",
      "source": [
        "xgb_model.fit(train_ohe,y)\n",
        "xgb_test_pred = xgb_model.predict_proba(test_ohe)[:,1]"
      ],
      "metadata": {
        "id": "dBOiUxmdtyrt"
      },
      "execution_count": null,
      "outputs": []
    },
    {
      "cell_type": "markdown",
      "source": [
        "\n",
        "XGBoost sin selección de funciones:\n",
        "\n",
        "*   puntuación_pública = 0,28404\n",
        "*   puntuación_privada = 0,28954\n",
        "\n",
        "XGBoost con selección de funciones:\n",
        "\n",
        "*   puntuación_pública = 0,28275\n",
        "*   puntuación_privada = 0,28976"
      ],
      "metadata": {
        "id": "7E_X8ttpt6cf"
      }
    },
    {
      "cell_type": "markdown",
      "source": [
        "Xgboost no se usó mucho en la competencia, pero con el ajuste adecuado de los parámetros, los resultados fueron buenos y luego demostró ser una valiosa adición."
      ],
      "metadata": {
        "id": "nu_mx_7LuTNX"
      }
    },
    {
      "cell_type": "markdown",
      "source": [],
      "metadata": {
        "id": "6ZQpTBnoufbY"
      }
    }
  ],
  "metadata": {
    "colab": {
      "collapsed_sections": [
        "j3vlPo8HB5Ka",
        "bgB5RFQSDNzw",
        "rZxCFrg02-6g",
        "CiTCHIi8R8pg",
        "pWZ0kxG6Ulwd",
        "mQhWK0HKWK6a",
        "NPlcxCk1o6cy",
        "2FO4u9cwpLkr"
      ],
      "provenance": [],
      "authorship_tag": "ABX9TyN7RgMgBPnlLOh+HHlGggVs",
      "include_colab_link": true
    },
    "kernelspec": {
      "display_name": "Python 3",
      "name": "python3"
    },
    "language_info": {
      "name": "python"
    }
  },
  "nbformat": 4,
  "nbformat_minor": 0
}